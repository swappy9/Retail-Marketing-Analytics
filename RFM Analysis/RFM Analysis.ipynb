{
 "cells": [
  {
   "cell_type": "code",
   "execution_count": 1,
   "metadata": {},
   "outputs": [],
   "source": [
    "#Importing necessary libraries\n",
    "\n",
    "import numpy as np\n",
    "import pandas as pd\n",
    "\n",
    "import time, warnings\n",
    "import datetime as dt\n",
    "\n",
    "from sklearn.cluster import KMeans\n",
    "\n",
    "#visualizations\n",
    "import matplotlib.pyplot as plt\n",
    "from pandas.plotting import scatter_matrix\n",
    "%matplotlib inline\n",
    "import seaborn as sns\n",
    "import squarify\n",
    "\n",
    "warnings.filterwarnings(\"ignore\")"
   ]
  },
  {
   "cell_type": "code",
   "execution_count": 2,
   "metadata": {},
   "outputs": [],
   "source": [
    "#Reading data from CSV in ISO format\n",
    "\n",
    "data = pd.read_csv(\"data.csv\", encoding=\"ISO-8859-1\")"
   ]
  },
  {
   "cell_type": "code",
   "execution_count": 3,
   "metadata": {},
   "outputs": [
    {
     "data": {
      "text/html": [
       "<div>\n",
       "<style scoped>\n",
       "    .dataframe tbody tr th:only-of-type {\n",
       "        vertical-align: middle;\n",
       "    }\n",
       "\n",
       "    .dataframe tbody tr th {\n",
       "        vertical-align: top;\n",
       "    }\n",
       "\n",
       "    .dataframe thead th {\n",
       "        text-align: right;\n",
       "    }\n",
       "</style>\n",
       "<table border=\"1\" class=\"dataframe\">\n",
       "  <thead>\n",
       "    <tr style=\"text-align: right;\">\n",
       "      <th></th>\n",
       "      <th>InvoiceNo</th>\n",
       "      <th>StockCode</th>\n",
       "      <th>Description</th>\n",
       "      <th>Quantity</th>\n",
       "      <th>InvoiceDate</th>\n",
       "      <th>UnitPrice</th>\n",
       "      <th>CustomerID</th>\n",
       "      <th>Country</th>\n",
       "    </tr>\n",
       "  </thead>\n",
       "  <tbody>\n",
       "    <tr>\n",
       "      <th>0</th>\n",
       "      <td>536365</td>\n",
       "      <td>85123A</td>\n",
       "      <td>WHITE HANGING HEART T-LIGHT HOLDER</td>\n",
       "      <td>6</td>\n",
       "      <td>12/1/2010 8:26</td>\n",
       "      <td>2.55</td>\n",
       "      <td>17850.0</td>\n",
       "      <td>United Kingdom</td>\n",
       "    </tr>\n",
       "    <tr>\n",
       "      <th>1</th>\n",
       "      <td>536365</td>\n",
       "      <td>71053</td>\n",
       "      <td>WHITE METAL LANTERN</td>\n",
       "      <td>6</td>\n",
       "      <td>12/1/2010 8:26</td>\n",
       "      <td>3.39</td>\n",
       "      <td>17850.0</td>\n",
       "      <td>United Kingdom</td>\n",
       "    </tr>\n",
       "    <tr>\n",
       "      <th>2</th>\n",
       "      <td>536365</td>\n",
       "      <td>84406B</td>\n",
       "      <td>CREAM CUPID HEARTS COAT HANGER</td>\n",
       "      <td>8</td>\n",
       "      <td>12/1/2010 8:26</td>\n",
       "      <td>2.75</td>\n",
       "      <td>17850.0</td>\n",
       "      <td>United Kingdom</td>\n",
       "    </tr>\n",
       "    <tr>\n",
       "      <th>3</th>\n",
       "      <td>536365</td>\n",
       "      <td>84029G</td>\n",
       "      <td>KNITTED UNION FLAG HOT WATER BOTTLE</td>\n",
       "      <td>6</td>\n",
       "      <td>12/1/2010 8:26</td>\n",
       "      <td>3.39</td>\n",
       "      <td>17850.0</td>\n",
       "      <td>United Kingdom</td>\n",
       "    </tr>\n",
       "    <tr>\n",
       "      <th>4</th>\n",
       "      <td>536365</td>\n",
       "      <td>84029E</td>\n",
       "      <td>RED WOOLLY HOTTIE WHITE HEART.</td>\n",
       "      <td>6</td>\n",
       "      <td>12/1/2010 8:26</td>\n",
       "      <td>3.39</td>\n",
       "      <td>17850.0</td>\n",
       "      <td>United Kingdom</td>\n",
       "    </tr>\n",
       "  </tbody>\n",
       "</table>\n",
       "</div>"
      ],
      "text/plain": [
       "  InvoiceNo StockCode                          Description  Quantity  \\\n",
       "0    536365    85123A   WHITE HANGING HEART T-LIGHT HOLDER         6   \n",
       "1    536365     71053                  WHITE METAL LANTERN         6   \n",
       "2    536365    84406B       CREAM CUPID HEARTS COAT HANGER         8   \n",
       "3    536365    84029G  KNITTED UNION FLAG HOT WATER BOTTLE         6   \n",
       "4    536365    84029E       RED WOOLLY HOTTIE WHITE HEART.         6   \n",
       "\n",
       "      InvoiceDate  UnitPrice  CustomerID         Country  \n",
       "0  12/1/2010 8:26       2.55     17850.0  United Kingdom  \n",
       "1  12/1/2010 8:26       3.39     17850.0  United Kingdom  \n",
       "2  12/1/2010 8:26       2.75     17850.0  United Kingdom  \n",
       "3  12/1/2010 8:26       3.39     17850.0  United Kingdom  \n",
       "4  12/1/2010 8:26       3.39     17850.0  United Kingdom  "
      ]
     },
     "execution_count": 3,
     "metadata": {},
     "output_type": "execute_result"
    }
   ],
   "source": [
    "#Checking the head of dataframe to see the headers and data \n",
    "\n",
    "data.head()"
   ]
  },
  {
   "cell_type": "markdown",
   "metadata": {},
   "source": [
    "# Let's do some EDA.."
   ]
  },
  {
   "cell_type": "code",
   "execution_count": null,
   "metadata": {},
   "outputs": [],
   "source": []
  },
  {
   "cell_type": "code",
   "execution_count": 4,
   "metadata": {},
   "outputs": [
    {
     "name": "stdout",
     "output_type": "stream",
     "text": [
      "Shape of the dataset:  (541909, 8)\n",
      "\n",
      "Columns present:  ['InvoiceNo', 'StockCode', 'Description', 'Quantity', 'InvoiceDate', 'UnitPrice', 'CustomerID', 'Country']\n",
      "\n",
      "No. of invoices:  25900\n",
      "\n",
      "No. of Products:  4223\n",
      "\n",
      "Min. & Max. Invoice date:  1/10/2011 10:04  &  9/9/2011 9:52\n",
      "\n",
      "Min. & Max. Qty:  -80995  &  80995\n",
      "\n",
      "Min. & Max. Unit Price:  -11062.06  &  38970.0\n",
      "\n",
      "No. of Customers:  4372\n",
      "\n",
      "No. of Countries:  38\n"
     ]
    }
   ],
   "source": [
    "#Summary of data/overall numbers\n",
    "\n",
    "print(\"Shape of the dataset: \", data.shape)\n",
    "print(\"\\nColumns present: \", list(data.columns))\n",
    "print(\"\\nNo. of invoices: \", data['InvoiceNo'].nunique())\n",
    "print(\"\\nNo. of Products: \", data['Description'].nunique())\n",
    "print(\"\\nMin. & Max. Invoice date: \", min(data['InvoiceDate']), ' & ', max(data['InvoiceDate']))\n",
    "print(\"\\nMin. & Max. Qty: \", min(data['Quantity']), ' & ', max(data['Quantity']))\n",
    "print(\"\\nMin. & Max. Unit Price: \", min(data['UnitPrice']), ' & ', max(data['UnitPrice']))\n",
    "print(\"\\nNo. of Customers: \", data['CustomerID'].nunique())\n",
    "print(\"\\nNo. of Countries: \", data['Country'].nunique())"
   ]
  },
  {
   "cell_type": "markdown",
   "metadata": {},
   "source": [
    "Findings...\n",
    "A Total of 25900 invoices/unique transcations available\n",
    "Transactions are dated till Nov 2011\n",
    "Negative qty and price indicates there are some \"return\" transactions in the dataset\n",
    "There are 4K cutsomers spanning 38 countries."
   ]
  },
  {
   "cell_type": "code",
   "execution_count": null,
   "metadata": {},
   "outputs": [],
   "source": []
  },
  {
   "cell_type": "code",
   "execution_count": 5,
   "metadata": {},
   "outputs": [
    {
     "name": "stdout",
     "output_type": "stream",
     "text": [
      "# of transactions with NULL Description : 1454\n",
      "# of transactions with NULL CustomerID : 135080\n"
     ]
    }
   ],
   "source": [
    "#Cehcking for any NULL values:\n",
    "\n",
    "col = ['InvoiceNo', 'Description', 'Quantity', 'InvoiceDate', 'UnitPrice', 'CustomerID', 'Country']\n",
    "\n",
    "for i in col:\n",
    "    val = data[i].isnull().values.any()\n",
    "    if val == True:\n",
    "        #print(i, ' has null values: ', val)\n",
    "        print('# of transactions with NULL', i, ':', data[data[i].isnull() == True].shape[0])"
   ]
  },
  {
   "cell_type": "code",
   "execution_count": 6,
   "metadata": {},
   "outputs": [
    {
     "data": {
      "image/png": "[encoded data removed]",
      "text/plain": [
       "<Figure size 1080x360 with 2 Axes>"
      ]
     },
     "metadata": {
      "needs_background": "light"
     },
     "output_type": "display_data"
    }
   ],
   "source": [
    "#Since customer behave differently in different geogrophical regions, let's look at the customer distribution\n",
    "# or invoice distribution by country for top10 countries.\n",
    "\n",
    "temp = data[['Country', 'CustomerID', 'InvoiceNo']].groupby(['Country']).agg({\"CustomerID\": \"nunique\", \n",
    "                                                                             \"InvoiceNo\": \"nunique\"}).reset_index().sort_values(by='CustomerID', ascending=False).head(10)\n",
    "ax = plt.figure(figsize=(15, 5)).subplots(1,2)\n",
    "ax=sns.barplot(x=\"Country\", y=\"CustomerID\", data=temp, ax=ax[0])\n",
    "ax.set_xticklabels(ax.get_xticklabels(),rotation=45)\n",
    "ax.set_title(\"Country wise customer count\")\n",
    "\n",
    "\n",
    "ax=sns.barplot(x=\"Country\", y=\"InvoiceNo\", data=temp)\n",
    "ax.set_xticklabels(ax.get_xticklabels(),rotation=45)\n",
    "ax.set_title(\"Country wise invoice count\")\n",
    "plt.show()"
   ]
  },
  {
   "cell_type": "markdown",
   "metadata": {},
   "source": [
    "Most of the data is coming from \"United Kingdom\", therefore we'll be restricting our analysis to only this country"
   ]
  },
  {
   "cell_type": "code",
   "execution_count": null,
   "metadata": {},
   "outputs": [],
   "source": []
  },
  {
   "cell_type": "code",
   "execution_count": 7,
   "metadata": {},
   "outputs": [
    {
     "data": {
      "image/png": "[encoded data removed]",
      "text/plain": [
       "<Figure size 1080x360 with 2 Axes>"
      ]
     },
     "metadata": {
      "needs_background": "light"
     },
     "output_type": "display_data"
    }
   ],
   "source": [
    "#Top Customers based on # of Invoices and Total $ spent\n",
    "\n",
    "data['AmountSpent'] = data['Quantity'] * data['UnitPrice']\n",
    "temp1 = data[['CustomerID', 'InvoiceNo', 'AmountSpent']].groupby(['CustomerID']).agg({\"InvoiceNo\": \"nunique\", \n",
    "                                                                             \"AmountSpent\": \"sum\"}).reset_index().sort_values(by=['InvoiceNo'], ascending=False).head(10)\n",
    "temp2 = data[['CustomerID', 'InvoiceNo', 'AmountSpent']].groupby(['CustomerID']).agg({\"InvoiceNo\": \"nunique\", \n",
    "                                                                             \"AmountSpent\": \"sum\"}).reset_index().sort_values(by=['AmountSpent'], ascending=False).head(10)\n",
    "\n",
    "ax = plt.figure(figsize=(15, 5)).subplots(1,2)\n",
    "ax=sns.barplot(x=\"CustomerID\", y=\"InvoiceNo\", data=temp1, ax=ax[0])\n",
    "ax.set_xticklabels(ax.get_xticklabels(),rotation=45)\n",
    "ax.set_title(\"Top Customer via frequency\")\n",
    "\n",
    "\n",
    "ax=sns.barplot(x=\"CustomerID\", y=\"AmountSpent\", data=temp2)\n",
    "ax.set_xticklabels(ax.get_xticklabels(),rotation=45)\n",
    "ax.set_title(\"Top Customer via amount spent\")\n",
    "plt.show()"
   ]
  },
  {
   "cell_type": "markdown",
   "metadata": {},
   "source": [
    "Top customer based on frequency of visits is ID = 14911\n",
    "\n",
    "Top customer based on $ amount spent is ID = 14646\n",
    "\n",
    "Top customer based on dollar amount has less than half foorprint compared to the most frequent customer"
   ]
  },
  {
   "cell_type": "code",
   "execution_count": null,
   "metadata": {},
   "outputs": [],
   "source": []
  },
  {
   "cell_type": "code",
   "execution_count": 8,
   "metadata": {},
   "outputs": [
    {
     "data": {
      "image/png": "[encoded data removed]",
      "text/plain": [
       "<Figure size 1080x360 with 1 Axes>"
      ]
     },
     "metadata": {
      "needs_background": "light"
     },
     "output_type": "display_data"
    }
   ],
   "source": [
    "#Top 10 product sold\n",
    "\n",
    "temp1 = data[['Description', 'Quantity']].groupby(['Description']).agg({\"Quantity\": \"sum\"}).reset_index().sort_values(by=['Quantity'], ascending=False).head(10)\n",
    "\n",
    "ax = plt.figure(figsize=(15, 5))\n",
    "ax=sns.barplot(x=\"Description\", y=\"Quantity\", data=temp1)\n",
    "ax.set_xticklabels(ax.get_xticklabels(),rotation=45)\n",
    "ax.set_title(\"Top selling products\")\n",
    "plt.show()"
   ]
  },
  {
   "cell_type": "markdown",
   "metadata": {},
   "source": [
    "Top product is \"World War 2 Gliders Asstd Designs\" with over 50K units sold"
   ]
  },
  {
   "cell_type": "code",
   "execution_count": null,
   "metadata": {},
   "outputs": [],
   "source": []
  },
  {
   "cell_type": "code",
   "execution_count": null,
   "metadata": {},
   "outputs": [],
   "source": []
  },
  {
   "cell_type": "markdown",
   "metadata": {},
   "source": [
    "# Data Cleaning..."
   ]
  },
  {
   "cell_type": "markdown",
   "metadata": {},
   "source": [
    "To clean the dataset, we will follow some basic business logics:\n",
    "\n",
    "1. Restrict the dataset to \"UnitedKingdom\"\n",
    "2. Remove return orders\n",
    "3. Remove rows where customerID are NA\n",
    "4. Restrict the data to one year to better understand RFM"
   ]
  },
  {
   "cell_type": "code",
   "execution_count": 9,
   "metadata": {},
   "outputs": [
    {
     "name": "stdout",
     "output_type": "stream",
     "text": [
      "Shape of dataset after selecting country = United Kingdom  (495478, 9)\n",
      "Shape of dataset after removing return orders  (486286, 9)\n",
      "Shape of dataset after removing Null CustomerID  (354345, 9)\n",
      "Shape of dataset after removing more than 1 year worth of data  (176137, 9)\n"
     ]
    }
   ],
   "source": [
    "data_uk = data[data['Country'] == 'United Kingdom']\n",
    "print('Shape of dataset after selecting country = United Kingdom ', data_uk.shape)\n",
    "\n",
    "data_uk = data_uk[data_uk['Quantity'] > 0]\n",
    "print('Shape of dataset after removing return orders ', data_uk.shape)\n",
    "\n",
    "data_uk.dropna(subset=['CustomerID'],how='all',inplace=True, )\n",
    "print('Shape of dataset after removing Null CustomerID ', data_uk.shape)\n",
    "\n",
    "\n",
    "data_uk = data_uk[data_uk['InvoiceDate']>= \"2010-12-09\"]\n",
    "print('Shape of dataset after removing more than 1 year worth of data ', data_uk.shape)"
   ]
  },
  {
   "cell_type": "code",
   "execution_count": 10,
   "metadata": {},
   "outputs": [
    {
     "name": "stdout",
     "output_type": "stream",
     "text": [
      "Shape of the dataset:  (176137, 9)\n",
      "No. of invoices:  8789\n",
      "No. of Products:  3413\n",
      "Min. & Max. Invoice date:  3/1/2011 10:08  &  9/9/2011 9:52\n",
      "Min. & Max. Qty:  1  &  4300\n",
      "Min. & Max. Unit Price:  0.0  &  8142.75\n",
      "No. of Customers:  2864\n"
     ]
    }
   ],
   "source": [
    "#Summary of cleaned dataset\n",
    "\n",
    "print(\"Shape of the dataset: \", data_uk.shape)\n",
    "print(\"No. of invoices: \", data_uk['InvoiceNo'].nunique())\n",
    "print(\"No. of Products: \", data_uk['Description'].nunique())\n",
    "print(\"Min. & Max. Invoice date: \", min(data_uk['InvoiceDate']), ' & ', max(data_uk['InvoiceDate']))\n",
    "print(\"Min. & Max. Qty: \", min(data_uk['Quantity']), ' & ', max(data_uk['Quantity']))\n",
    "print(\"Min. & Max. Unit Price: \", min(data_uk['UnitPrice']), ' & ', max(data_uk['UnitPrice']))\n",
    "print(\"No. of Customers: \", data_uk['CustomerID'].nunique())"
   ]
  },
  {
   "cell_type": "code",
   "execution_count": null,
   "metadata": {},
   "outputs": [],
   "source": []
  },
  {
   "cell_type": "markdown",
   "metadata": {},
   "source": [
    "# Making RFM dataframe"
   ]
  },
  {
   "cell_type": "code",
   "execution_count": null,
   "metadata": {},
   "outputs": [],
   "source": []
  },
  {
   "cell_type": "code",
   "execution_count": 11,
   "metadata": {},
   "outputs": [],
   "source": [
    "#To start with the RFM, we need to create, R(Recency) and F(Frequency) and M(Monetary) columns"
   ]
  },
  {
   "cell_type": "code",
   "execution_count": 12,
   "metadata": {},
   "outputs": [
    {
     "name": "stdout",
     "output_type": "stream",
     "text": [
      "Base or reference date:  2011-09-30\n"
     ]
    },
    {
     "data": {
      "text/html": [
       "<div>\n",
       "<style scoped>\n",
       "    .dataframe tbody tr th:only-of-type {\n",
       "        vertical-align: middle;\n",
       "    }\n",
       "\n",
       "    .dataframe tbody tr th {\n",
       "        vertical-align: top;\n",
       "    }\n",
       "\n",
       "    .dataframe thead th {\n",
       "        text-align: right;\n",
       "    }\n",
       "</style>\n",
       "<table border=\"1\" class=\"dataframe\">\n",
       "  <thead>\n",
       "    <tr style=\"text-align: right;\">\n",
       "      <th></th>\n",
       "      <th>CustomerID</th>\n",
       "      <th>Recency</th>\n",
       "    </tr>\n",
       "  </thead>\n",
       "  <tbody>\n",
       "    <tr>\n",
       "      <th>0</th>\n",
       "      <td>12747.0</td>\n",
       "      <td>39</td>\n",
       "    </tr>\n",
       "    <tr>\n",
       "      <th>1</th>\n",
       "      <td>12748.0</td>\n",
       "      <td>0</td>\n",
       "    </tr>\n",
       "    <tr>\n",
       "      <th>2</th>\n",
       "      <td>12749.0</td>\n",
       "      <td>60</td>\n",
       "    </tr>\n",
       "    <tr>\n",
       "      <th>3</th>\n",
       "      <td>12820.0</td>\n",
       "      <td>4</td>\n",
       "    </tr>\n",
       "    <tr>\n",
       "      <th>4</th>\n",
       "      <td>12821.0</td>\n",
       "      <td>144</td>\n",
       "    </tr>\n",
       "  </tbody>\n",
       "</table>\n",
       "</div>"
      ],
      "text/plain": [
       "   CustomerID  Recency\n",
       "0     12747.0       39\n",
       "1     12748.0        0\n",
       "2     12749.0       60\n",
       "3     12820.0        4\n",
       "4     12821.0      144"
      ]
     },
     "execution_count": 12,
     "metadata": {},
     "output_type": "execute_result"
    }
   ],
   "source": [
    "#Recency Column\n",
    "\n",
    "data_uk['Date'] = pd.DatetimeIndex(data_uk['InvoiceDate']).date\n",
    "\n",
    "\n",
    "#We will make the last date as a reference\n",
    "now = dt.date(2011,9,30)\n",
    "print('Base or reference date: ', now)\n",
    "\n",
    "\n",
    "#Calculate the last visit date\n",
    "data_recency = data_uk.groupby(by='CustomerID', as_index=False)['Date'].max()\n",
    "data_recency = data_recency.rename(columns={'CustomerID': 'CustomerID', 'Date': 'LastPurshaceDate'})\n",
    "data_recency['Recency'] = data_recency['LastPurshaceDate'].apply(lambda x: (now - x).days)\n",
    "\n",
    "#Drop LastPurchaseDate\n",
    "data_recency.drop('LastPurshaceDate',axis=1,inplace=True)\n",
    "\n",
    "\n",
    "data_recency.head()"
   ]
  },
  {
   "cell_type": "code",
   "execution_count": null,
   "metadata": {},
   "outputs": [],
   "source": []
  },
  {
   "cell_type": "code",
   "execution_count": 13,
   "metadata": {},
   "outputs": [
    {
     "data": {
      "text/html": [
       "<div>\n",
       "<style scoped>\n",
       "    .dataframe tbody tr th:only-of-type {\n",
       "        vertical-align: middle;\n",
       "    }\n",
       "\n",
       "    .dataframe tbody tr th {\n",
       "        vertical-align: top;\n",
       "    }\n",
       "\n",
       "    .dataframe thead th {\n",
       "        text-align: right;\n",
       "    }\n",
       "</style>\n",
       "<table border=\"1\" class=\"dataframe\">\n",
       "  <thead>\n",
       "    <tr style=\"text-align: right;\">\n",
       "      <th></th>\n",
       "      <th>CustomerID</th>\n",
       "      <th>Frequency</th>\n",
       "    </tr>\n",
       "  </thead>\n",
       "  <tbody>\n",
       "    <tr>\n",
       "      <th>0</th>\n",
       "      <td>12747.0</td>\n",
       "      <td>5</td>\n",
       "    </tr>\n",
       "    <tr>\n",
       "      <th>1</th>\n",
       "      <td>12748.0</td>\n",
       "      <td>96</td>\n",
       "    </tr>\n",
       "    <tr>\n",
       "      <th>2</th>\n",
       "      <td>12749.0</td>\n",
       "      <td>3</td>\n",
       "    </tr>\n",
       "    <tr>\n",
       "      <th>3</th>\n",
       "      <td>12820.0</td>\n",
       "      <td>1</td>\n",
       "    </tr>\n",
       "    <tr>\n",
       "      <th>4</th>\n",
       "      <td>12821.0</td>\n",
       "      <td>1</td>\n",
       "    </tr>\n",
       "  </tbody>\n",
       "</table>\n",
       "</div>"
      ],
      "text/plain": [
       "   CustomerID  Frequency\n",
       "0     12747.0          5\n",
       "1     12748.0         96\n",
       "2     12749.0          3\n",
       "3     12820.0          1\n",
       "4     12821.0          1"
      ]
     },
     "execution_count": 13,
     "metadata": {},
     "output_type": "execute_result"
    }
   ],
   "source": [
    "#Frequency Column\n",
    "\n",
    "temp = data_uk\n",
    "temp.drop_duplicates(subset=['InvoiceNo', 'CustomerID'], keep=\"first\", inplace=True)\n",
    "\n",
    "#calculate frequency of purchases\n",
    "data_freq = temp.groupby(by=['CustomerID'], as_index=False)['InvoiceNo'].count()\n",
    "data_freq = data_freq.rename(columns={'CustomerID': 'CustomerID', 'InvoiceNo': 'Frequency'})\n",
    "\n",
    "\n",
    "data_freq.head()"
   ]
  },
  {
   "cell_type": "code",
   "execution_count": null,
   "metadata": {},
   "outputs": [],
   "source": []
  },
  {
   "cell_type": "code",
   "execution_count": 14,
   "metadata": {},
   "outputs": [
    {
     "data": {
      "text/html": [
       "<div>\n",
       "<style scoped>\n",
       "    .dataframe tbody tr th:only-of-type {\n",
       "        vertical-align: middle;\n",
       "    }\n",
       "\n",
       "    .dataframe tbody tr th {\n",
       "        vertical-align: top;\n",
       "    }\n",
       "\n",
       "    .dataframe thead th {\n",
       "        text-align: right;\n",
       "    }\n",
       "</style>\n",
       "<table border=\"1\" class=\"dataframe\">\n",
       "  <thead>\n",
       "    <tr style=\"text-align: right;\">\n",
       "      <th></th>\n",
       "      <th>CustomerID</th>\n",
       "      <th>Monetary</th>\n",
       "    </tr>\n",
       "  </thead>\n",
       "  <tbody>\n",
       "    <tr>\n",
       "      <th>0</th>\n",
       "      <td>12747.0</td>\n",
       "      <td>191.85</td>\n",
       "    </tr>\n",
       "    <tr>\n",
       "      <th>1</th>\n",
       "      <td>12748.0</td>\n",
       "      <td>1054.43</td>\n",
       "    </tr>\n",
       "    <tr>\n",
       "      <th>2</th>\n",
       "      <td>12749.0</td>\n",
       "      <td>67.00</td>\n",
       "    </tr>\n",
       "    <tr>\n",
       "      <th>3</th>\n",
       "      <td>12820.0</td>\n",
       "      <td>15.00</td>\n",
       "    </tr>\n",
       "    <tr>\n",
       "      <th>4</th>\n",
       "      <td>12821.0</td>\n",
       "      <td>19.92</td>\n",
       "    </tr>\n",
       "  </tbody>\n",
       "</table>\n",
       "</div>"
      ],
      "text/plain": [
       "   CustomerID  Monetary\n",
       "0     12747.0    191.85\n",
       "1     12748.0   1054.43\n",
       "2     12749.0     67.00\n",
       "3     12820.0     15.00\n",
       "4     12821.0     19.92"
      ]
     },
     "execution_count": 14,
     "metadata": {},
     "output_type": "execute_result"
    }
   ],
   "source": [
    "#Monetary Column\n",
    "\n",
    "data_monetary = data_uk.groupby(by=['CustomerID'], as_index=False)['AmountSpent'].sum()\n",
    "data_monetary = data_monetary.rename(columns={'CustomerID': 'CustomerID', 'AmountSpent': 'Monetary'})\n",
    "\n",
    "\n",
    "data_monetary.head()"
   ]
  },
  {
   "cell_type": "code",
   "execution_count": null,
   "metadata": {},
   "outputs": [],
   "source": []
  },
  {
   "cell_type": "code",
   "execution_count": 15,
   "metadata": {},
   "outputs": [],
   "source": [
    "#Combining Recency, Frequency and Monetary dataframe\n",
    "\n",
    "\n",
    "data_rfm = data_recency.merge(data_freq, how='left', on='CustomerID').merge(data_monetary, how='left', on='CustomerID')"
   ]
  },
  {
   "cell_type": "code",
   "execution_count": 16,
   "metadata": {},
   "outputs": [
    {
     "data": {
      "text/html": [
       "<div>\n",
       "<style scoped>\n",
       "    .dataframe tbody tr th:only-of-type {\n",
       "        vertical-align: middle;\n",
       "    }\n",
       "\n",
       "    .dataframe tbody tr th {\n",
       "        vertical-align: top;\n",
       "    }\n",
       "\n",
       "    .dataframe thead th {\n",
       "        text-align: right;\n",
       "    }\n",
       "</style>\n",
       "<table border=\"1\" class=\"dataframe\">\n",
       "  <thead>\n",
       "    <tr style=\"text-align: right;\">\n",
       "      <th></th>\n",
       "      <th>CustomerID</th>\n",
       "      <th>Recency</th>\n",
       "      <th>Frequency</th>\n",
       "      <th>Monetary</th>\n",
       "    </tr>\n",
       "  </thead>\n",
       "  <tbody>\n",
       "    <tr>\n",
       "      <th>0</th>\n",
       "      <td>12747.0</td>\n",
       "      <td>39</td>\n",
       "      <td>5</td>\n",
       "      <td>191.85</td>\n",
       "    </tr>\n",
       "    <tr>\n",
       "      <th>1</th>\n",
       "      <td>12748.0</td>\n",
       "      <td>0</td>\n",
       "      <td>96</td>\n",
       "      <td>1054.43</td>\n",
       "    </tr>\n",
       "    <tr>\n",
       "      <th>2</th>\n",
       "      <td>12749.0</td>\n",
       "      <td>60</td>\n",
       "      <td>3</td>\n",
       "      <td>67.00</td>\n",
       "    </tr>\n",
       "    <tr>\n",
       "      <th>3</th>\n",
       "      <td>12820.0</td>\n",
       "      <td>4</td>\n",
       "      <td>1</td>\n",
       "      <td>15.00</td>\n",
       "    </tr>\n",
       "    <tr>\n",
       "      <th>4</th>\n",
       "      <td>12821.0</td>\n",
       "      <td>144</td>\n",
       "      <td>1</td>\n",
       "      <td>19.92</td>\n",
       "    </tr>\n",
       "  </tbody>\n",
       "</table>\n",
       "</div>"
      ],
      "text/plain": [
       "   CustomerID  Recency  Frequency  Monetary\n",
       "0     12747.0       39          5    191.85\n",
       "1     12748.0        0         96   1054.43\n",
       "2     12749.0       60          3     67.00\n",
       "3     12820.0        4          1     15.00\n",
       "4     12821.0      144          1     19.92"
      ]
     },
     "execution_count": 16,
     "metadata": {},
     "output_type": "execute_result"
    }
   ],
   "source": [
    "data_rfm.head()"
   ]
  },
  {
   "cell_type": "code",
   "execution_count": null,
   "metadata": {},
   "outputs": [],
   "source": []
  },
  {
   "cell_type": "markdown",
   "metadata": {},
   "source": [
    "# RFM analysis using Quantiles"
   ]
  },
  {
   "cell_type": "markdown",
   "metadata": {},
   "source": [
    "Here we will create customers segments from RFM Model using Quantiles. We assign a score from 1 to 4 to Recency, Frequency and Monetary. Four is the best/highest value, and one is the lowest/worst value. A final RFM score is calculated simply by combining individual RFM score numbers."
   ]
  },
  {
   "cell_type": "code",
   "execution_count": null,
   "metadata": {},
   "outputs": [],
   "source": []
  },
  {
   "cell_type": "code",
   "execution_count": 17,
   "metadata": {},
   "outputs": [
    {
     "data": {
      "text/html": [
       "<div>\n",
       "<style scoped>\n",
       "    .dataframe tbody tr th:only-of-type {\n",
       "        vertical-align: middle;\n",
       "    }\n",
       "\n",
       "    .dataframe tbody tr th {\n",
       "        vertical-align: top;\n",
       "    }\n",
       "\n",
       "    .dataframe thead th {\n",
       "        text-align: right;\n",
       "    }\n",
       "</style>\n",
       "<table border=\"1\" class=\"dataframe\">\n",
       "  <thead>\n",
       "    <tr style=\"text-align: right;\">\n",
       "      <th></th>\n",
       "      <th>Recency</th>\n",
       "      <th>Frequency</th>\n",
       "      <th>Monetary</th>\n",
       "    </tr>\n",
       "  </thead>\n",
       "  <tbody>\n",
       "    <tr>\n",
       "      <th>0.25</th>\n",
       "      <td>15.0</td>\n",
       "      <td>1.0</td>\n",
       "      <td>16.35</td>\n",
       "    </tr>\n",
       "    <tr>\n",
       "      <th>0.50</th>\n",
       "      <td>49.0</td>\n",
       "      <td>2.0</td>\n",
       "      <td>35.40</td>\n",
       "    </tr>\n",
       "    <tr>\n",
       "      <th>0.75</th>\n",
       "      <td>113.0</td>\n",
       "      <td>3.0</td>\n",
       "      <td>92.42</td>\n",
       "    </tr>\n",
       "  </tbody>\n",
       "</table>\n",
       "</div>"
      ],
      "text/plain": [
       "      Recency  Frequency  Monetary\n",
       "0.25     15.0        1.0     16.35\n",
       "0.50     49.0        2.0     35.40\n",
       "0.75    113.0        3.0     92.42"
      ]
     },
     "execution_count": 17,
     "metadata": {},
     "output_type": "execute_result"
    }
   ],
   "source": [
    "#Creating Quantiles dataframe for 25%, 50%, 75% to create 4 buckets\n",
    "\n",
    "quantiles = data_rfm.drop('CustomerID', axis=1).quantile(q=[0.25,0.5,0.75])\n",
    "quantiles"
   ]
  },
  {
   "cell_type": "code",
   "execution_count": 18,
   "metadata": {},
   "outputs": [],
   "source": [
    "#Function to create segments of Recency\n",
    "\n",
    "def RScore(x, p, quantiles):\n",
    "    #return quantiles[quantiles.index == 0.25][p]\n",
    "    if x <= int(quantiles[quantiles.index == 0.25][p]):\n",
    "        return 4\n",
    "    elif x <= int(quantiles[quantiles.index == 0.50][p]):\n",
    "        return 3\n",
    "    elif x <= int(quantiles[quantiles.index == 0.75][p]): \n",
    "        return 2\n",
    "    else:\n",
    "        return 1\n",
    "\n",
    "    \n",
    "#Function to create segments of Frequency and Monetary\n",
    "def FMScore(x, p, quantiles):\n",
    "    if float(x) <= float(quantiles[quantiles.index == 0.25][p]):\n",
    "        return 1\n",
    "    elif float(x) <= float(quantiles[quantiles.index == 0.50][p]):\n",
    "        return 2\n",
    "    elif float(x) <= float(quantiles[quantiles.index == 0.75][p]): \n",
    "        return 3\n",
    "    else:\n",
    "        return 4"
   ]
  },
  {
   "cell_type": "code",
   "execution_count": 19,
   "metadata": {},
   "outputs": [
    {
     "data": {
      "text/html": [
       "<div>\n",
       "<style scoped>\n",
       "    .dataframe tbody tr th:only-of-type {\n",
       "        vertical-align: middle;\n",
       "    }\n",
       "\n",
       "    .dataframe tbody tr th {\n",
       "        vertical-align: top;\n",
       "    }\n",
       "\n",
       "    .dataframe thead th {\n",
       "        text-align: right;\n",
       "    }\n",
       "</style>\n",
       "<table border=\"1\" class=\"dataframe\">\n",
       "  <thead>\n",
       "    <tr style=\"text-align: right;\">\n",
       "      <th></th>\n",
       "      <th>CustomerID</th>\n",
       "      <th>Recency</th>\n",
       "      <th>Frequency</th>\n",
       "      <th>Monetary</th>\n",
       "      <th>R_Quartile</th>\n",
       "      <th>F_Quartile</th>\n",
       "      <th>M_Quartile</th>\n",
       "      <th>RFMScore</th>\n",
       "    </tr>\n",
       "  </thead>\n",
       "  <tbody>\n",
       "    <tr>\n",
       "      <th>0</th>\n",
       "      <td>12747.0</td>\n",
       "      <td>39</td>\n",
       "      <td>5</td>\n",
       "      <td>191.85</td>\n",
       "      <td>3</td>\n",
       "      <td>4</td>\n",
       "      <td>4</td>\n",
       "      <td>344</td>\n",
       "    </tr>\n",
       "    <tr>\n",
       "      <th>1</th>\n",
       "      <td>12748.0</td>\n",
       "      <td>0</td>\n",
       "      <td>96</td>\n",
       "      <td>1054.43</td>\n",
       "      <td>4</td>\n",
       "      <td>4</td>\n",
       "      <td>4</td>\n",
       "      <td>444</td>\n",
       "    </tr>\n",
       "    <tr>\n",
       "      <th>2</th>\n",
       "      <td>12749.0</td>\n",
       "      <td>60</td>\n",
       "      <td>3</td>\n",
       "      <td>67.00</td>\n",
       "      <td>2</td>\n",
       "      <td>3</td>\n",
       "      <td>3</td>\n",
       "      <td>233</td>\n",
       "    </tr>\n",
       "    <tr>\n",
       "      <th>3</th>\n",
       "      <td>12820.0</td>\n",
       "      <td>4</td>\n",
       "      <td>1</td>\n",
       "      <td>15.00</td>\n",
       "      <td>4</td>\n",
       "      <td>1</td>\n",
       "      <td>1</td>\n",
       "      <td>411</td>\n",
       "    </tr>\n",
       "    <tr>\n",
       "      <th>4</th>\n",
       "      <td>12821.0</td>\n",
       "      <td>144</td>\n",
       "      <td>1</td>\n",
       "      <td>19.92</td>\n",
       "      <td>1</td>\n",
       "      <td>1</td>\n",
       "      <td>2</td>\n",
       "      <td>112</td>\n",
       "    </tr>\n",
       "  </tbody>\n",
       "</table>\n",
       "</div>"
      ],
      "text/plain": [
       "   CustomerID  Recency  Frequency  Monetary  R_Quartile  F_Quartile  \\\n",
       "0     12747.0       39          5    191.85           3           4   \n",
       "1     12748.0        0         96   1054.43           4           4   \n",
       "2     12749.0       60          3     67.00           2           3   \n",
       "3     12820.0        4          1     15.00           4           1   \n",
       "4     12821.0      144          1     19.92           1           1   \n",
       "\n",
       "   M_Quartile RFMScore  \n",
       "0           4      344  \n",
       "1           4      444  \n",
       "2           3      233  \n",
       "3           1      411  \n",
       "4           2      112  "
      ]
     },
     "execution_count": 19,
     "metadata": {},
     "output_type": "execute_result"
    }
   ],
   "source": [
    "#Calculating each customer's R/F/M quartiles based on quantiles table and functions defined above\n",
    "\n",
    "rfm_segment = data_rfm\n",
    "\n",
    "rfm_segment['R_Quartile'] = rfm_segment['Recency'].apply(RScore, args=('Recency',quantiles,))\n",
    "rfm_segment['F_Quartile'] = rfm_segment['Frequency'].apply(FMScore, args=('Frequency',quantiles,))\n",
    "rfm_segment['M_Quartile'] = rfm_segment['Monetary'].apply(FMScore, args=('Monetary',quantiles,))\n",
    "\n",
    "\n",
    "\n",
    "rfm_segment['RFMScore'] = rfm_segment.R_Quartile.map(str) +rfm_segment.F_Quartile.map(str) +rfm_segment.M_Quartile.map(str)\n",
    "rfm_segment.head()"
   ]
  },
  {
   "cell_type": "code",
   "execution_count": null,
   "metadata": {},
   "outputs": [],
   "source": []
  },
  {
   "cell_type": "markdown",
   "metadata": {},
   "source": [
    "We can define various customer segments based on our RFM segment:\n",
    "\n",
    "1.Core - Best Customers\n",
    " \n",
    " RFM Score: 444\n",
    " \n",
    " Who They Are: Highly engaged customers who visited recently, the most often visited and generates the most revenue.\n",
    "\n",
    "\n",
    "2.Loyal - Most Loyal Customers\n",
    " \n",
    " RFM Score: X4X\n",
    " \n",
    " Who They Are: Customers who are most frequent\n",
    " \n",
    " \n",
    "3.BigSpenders - Highest Paying Customers\n",
    " \n",
    " RFM Score: XX4\n",
    " \n",
    " Who They Are: Customers who have generated the most revenue\n",
    " \n",
    " \n",
    "4.Rookies - Your Newest Customers\n",
    " \n",
    " RFM Score: 41X\n",
    " \n",
    " Who They Are: First time buyers\n",
    "\n",
    "\n",
    "5.LoosingBigSpenders - Focust point!! where good customers are slipping\n",
    "\n",
    "RFM Score: 244 and 234\n",
    "\n",
    "Who They Are: Customers who were frequent and big spenders but have not visited the store in a while\n",
    "\n",
    "\n",
    "6.LostBigSpenders - Good customers who are lost\n",
    "\n",
    "RFM Score: 144 and 134\n",
    "\n",
    "Who They Are: Customers who were frequent and big spenders but have not visited the store from a long time\n",
    "\n",
    "\n",
    "7.LostCheapSpenders - Bad/Cheap customers who are lost\n",
    "\n",
    "RFM Score: 141 and 131\n",
    "\n",
    "Who They Are: Customers who were frequent and big spenders but have not visited the store from a long time\n",
    "\n",
    "\n",
    "8.Regular - The customers having common behaviour across these metrics\n",
    "\n",
    "RFM Score: Remaining Scores\n",
    "\n",
    "Who They Are: Customer who have average metrics across each RFM scores"
   ]
  },
  {
   "cell_type": "code",
   "execution_count": 20,
   "metadata": {},
   "outputs": [],
   "source": [
    "#Snapshot of some of the KPI’s against each customer segment\n",
    "\n",
    "KPI = pd.DataFrame(columns=['Segment', 'CustomerCount', 'RecencyMean', 'FrequencyMean', \n",
    "                            'MonetaryMean', '%Customer', '%Sales'])\n",
    "KPI['Segment'] = ['Core', 'Loyal', 'BigSpenders', 'Rookies', 'LoosingBigSpenders', 'LostBigSpenders', 'LostCheapSpenders']\n"
   ]
  },
  {
   "cell_type": "code",
   "execution_count": 21,
   "metadata": {},
   "outputs": [],
   "source": [
    "# segment_dict = {'Core':[(4, 4, 4)], \n",
    "#                 'Loyal':[('X', 4, 'X')], \n",
    "#                 'BigSpenders':[('X', 'X', 4)], \n",
    "#                 'Rookies':[(4, 1, 'X')], \n",
    "#                 'LoosingBigSpenders':[(2, 4, 4), (2, 3, 4)], \n",
    "#                 'LostBigSpenders':[(1, 4, 4), (1, 3, 4)], \n",
    "#                 'LostCheapSpenders':[(1,4, 1), (1, 3, 1)]}"
   ]
  },
  {
   "cell_type": "code",
   "execution_count": 22,
   "metadata": {},
   "outputs": [],
   "source": [
    "#Segment == Core (444)\n",
    "\n",
    "CustomerCount = rfm_segment[rfm_segment.RFMScore == '444']['CustomerID'].count()\n",
    "RecencyMean = round(rfm_segment[rfm_segment.RFMScore == '444']['Recency'].mean(), 2)\n",
    "FrequencyMean = round(rfm_segment[rfm_segment.RFMScore == '444']['Frequency'].mean(), 2)\n",
    "MonetaryMean = round(rfm_segment[rfm_segment.RFMScore == '444']['Monetary'].mean(), 2)\n",
    "PerCustomer = round((rfm_segment[rfm_segment.RFMScore == '444']['CustomerID'].count() /\\\n",
    "                     rfm_segment['CustomerID'].count())*100, 2)\n",
    "PerSales = round((rfm_segment[rfm_segment.RFMScore == '444']['Monetary'].sum() /\\\n",
    "                     rfm_segment['Monetary'].sum())*100, 2)\n",
    "\n",
    "\n",
    "KPI.loc[0].CustomerCount = CustomerCount\n",
    "KPI.loc[0].RecencyMean = RecencyMean\n",
    "KPI.loc[0].FrequencyMean = FrequencyMean\n",
    "KPI.loc[0].MonetaryMean = MonetaryMean\n",
    "KPI.loc[0]['%Customer'] = PerCustomer\n",
    "KPI.loc[0]['%Sales'] = PerSales"
   ]
  },
  {
   "cell_type": "code",
   "execution_count": 23,
   "metadata": {},
   "outputs": [],
   "source": [
    "# Segment == Loyal (X4X)\n",
    "\n",
    "CustomerCount = rfm_segment[rfm_segment.F_Quartile == 4]['CustomerID'].count()\n",
    "RecencyMean = round(rfm_segment[rfm_segment.F_Quartile == 4]['Recency'].mean(), 2)\n",
    "FrequencyMean = round(rfm_segment[rfm_segment.F_Quartile == 4]['Frequency'].mean(), 2)\n",
    "MonetaryMean = round(rfm_segment[rfm_segment.F_Quartile == 4]['Monetary'].mean(), 2)\n",
    "PerCustomer = round((rfm_segment[rfm_segment.F_Quartile == 4]['CustomerID'].count() /\\\n",
    "                     rfm_segment['CustomerID'].count())*100, 2)\n",
    "PerSales = round((rfm_segment[rfm_segment.F_Quartile == 4]['Monetary'].sum() /\\\n",
    "                     rfm_segment['Monetary'].sum())*100, 2)\n",
    "\n",
    "\n",
    "KPI.loc[1].CustomerCount = CustomerCount\n",
    "KPI.loc[1].RecencyMean = RecencyMean\n",
    "KPI.loc[1].FrequencyMean = FrequencyMean\n",
    "KPI.loc[1].MonetaryMean = MonetaryMean\n",
    "KPI.loc[1]['%Customer'] = PerCustomer\n",
    "KPI.loc[1]['%Sales'] = PerSales"
   ]
  },
  {
   "cell_type": "code",
   "execution_count": 24,
   "metadata": {},
   "outputs": [],
   "source": [
    "# Segment == BigSpenders (XX4)\n",
    "\n",
    "CustomerCount = rfm_segment[rfm_segment.M_Quartile == 4]['CustomerID'].count()\n",
    "RecencyMean = round(rfm_segment[rfm_segment.M_Quartile == 4]['Recency'].mean(), 2)\n",
    "FrequencyMean = round(rfm_segment[rfm_segment.M_Quartile == 4]['Frequency'].mean(), 2)\n",
    "MonetaryMean = round(rfm_segment[rfm_segment.M_Quartile == 4]['Monetary'].mean(), 2)\n",
    "PerCustomer = round((rfm_segment[rfm_segment.M_Quartile == 4]['CustomerID'].count() /\\\n",
    "                     rfm_segment['CustomerID'].count())*100, 2)\n",
    "PerSales = round((rfm_segment[rfm_segment.M_Quartile == 4]['Monetary'].sum() /\\\n",
    "                     rfm_segment['Monetary'].sum())*100, 2)\n",
    "\n",
    "\n",
    "KPI.loc[2].CustomerCount = CustomerCount\n",
    "KPI.loc[2].RecencyMean = RecencyMean\n",
    "KPI.loc[2].FrequencyMean = FrequencyMean\n",
    "KPI.loc[2].MonetaryMean = MonetaryMean\n",
    "KPI.loc[2]['%Customer'] = PerCustomer\n",
    "KPI.loc[2]['%Sales'] = PerSales"
   ]
  },
  {
   "cell_type": "code",
   "execution_count": 25,
   "metadata": {},
   "outputs": [],
   "source": [
    "# Segment == Rookies (41X)\n",
    "\n",
    "CustomerCount = rfm_segment[(rfm_segment.R_Quartile == 4) & (rfm_segment.F_Quartile == 1)]['CustomerID'].count()\n",
    "RecencyMean = round(rfm_segment[(rfm_segment.R_Quartile == 4) & (rfm_segment.F_Quartile == 1)]['Recency'].mean(), 2)\n",
    "FrequencyMean = round(rfm_segment[(rfm_segment.R_Quartile == 4) & (rfm_segment.F_Quartile == 1)]['Frequency'].mean(), 2)\n",
    "MonetaryMean = round(rfm_segment[(rfm_segment.R_Quartile == 4) & (rfm_segment.F_Quartile == 1)]['Monetary'].mean(), 2)\n",
    "PerCustomer = round((rfm_segment[(rfm_segment.R_Quartile == 4) & (rfm_segment.F_Quartile == 1)]['CustomerID'].count() /\\\n",
    "                     rfm_segment['CustomerID'].count())*100, 2)\n",
    "PerSales = round((rfm_segment[(rfm_segment.R_Quartile == 4) & (rfm_segment.F_Quartile == 1)]['Monetary'].sum() /\\\n",
    "                     rfm_segment['Monetary'].sum())*100, 2)\n",
    "\n",
    "\n",
    "KPI.loc[3].CustomerCount = CustomerCount\n",
    "KPI.loc[3].RecencyMean = RecencyMean\n",
    "KPI.loc[3].FrequencyMean = FrequencyMean\n",
    "KPI.loc[3].MonetaryMean = MonetaryMean\n",
    "KPI.loc[3]['%Customer'] = PerCustomer\n",
    "KPI.loc[3]['%Sales'] = PerSales"
   ]
  },
  {
   "cell_type": "code",
   "execution_count": 26,
   "metadata": {},
   "outputs": [],
   "source": [
    "# Segment == LoosingBigSpenders (244, 234)\n",
    "\n",
    "CustomerCount = rfm_segment[rfm_segment.RFMScore.isin(['244', '234'])]['CustomerID'].count()\n",
    "RecencyMean = round(rfm_segment[rfm_segment.RFMScore.isin(['244', '234'])]['Recency'].mean(), 2)\n",
    "FrequencyMean = round(rfm_segment[rfm_segment.RFMScore.isin(['244', '234'])]['Frequency'].mean(), 2)\n",
    "MonetaryMean = round(rfm_segment[rfm_segment.RFMScore.isin(['244', '234'])]['Monetary'].mean(), 2)\n",
    "PerCustomer = round((rfm_segment[rfm_segment.RFMScore.isin(['244', '234'])]['CustomerID'].count() /\\\n",
    "                     rfm_segment['CustomerID'].count())*100, 2)\n",
    "PerSales = round((rfm_segment[rfm_segment.RFMScore.isin(['244', '234'])]['Monetary'].sum() /\\\n",
    "                     rfm_segment['Monetary'].sum())*100, 2)\n",
    "\n",
    "\n",
    "KPI.loc[4].CustomerCount = CustomerCount\n",
    "KPI.loc[4].RecencyMean = RecencyMean\n",
    "KPI.loc[4].FrequencyMean = FrequencyMean\n",
    "KPI.loc[4].MonetaryMean = MonetaryMean\n",
    "KPI.loc[4]['%Customer'] = PerCustomer\n",
    "KPI.loc[4]['%Sales'] = PerSales"
   ]
  },
  {
   "cell_type": "code",
   "execution_count": 27,
   "metadata": {},
   "outputs": [],
   "source": [
    "# Segment == LostBigSpenders (144, 134)\n",
    "\n",
    "CustomerCount = rfm_segment[rfm_segment.RFMScore.isin(['144', '134'])]['CustomerID'].count()\n",
    "RecencyMean = round(rfm_segment[rfm_segment.RFMScore.isin(['144', '134'])]['Recency'].mean(), 2)\n",
    "FrequencyMean = round(rfm_segment[rfm_segment.RFMScore.isin(['144', '134'])]['Frequency'].mean(), 2)\n",
    "MonetaryMean = round(rfm_segment[rfm_segment.RFMScore.isin(['144', '134'])]['Monetary'].mean(), 2)\n",
    "PerCustomer = round((rfm_segment[rfm_segment.RFMScore.isin(['144', '134'])]['CustomerID'].count() /\\\n",
    "                     rfm_segment['CustomerID'].count())*100, 2)\n",
    "PerSales = round((rfm_segment[rfm_segment.RFMScore.isin(['144', '134'])]['Monetary'].sum() /\\\n",
    "                     rfm_segment['Monetary'].sum())*100, 2)\n",
    "\n",
    "\n",
    "KPI.loc[5].CustomerCount = CustomerCount\n",
    "KPI.loc[5].RecencyMean = RecencyMean\n",
    "KPI.loc[5].FrequencyMean = FrequencyMean\n",
    "KPI.loc[5].MonetaryMean = MonetaryMean\n",
    "KPI.loc[5]['%Customer'] = PerCustomer\n",
    "KPI.loc[5]['%Sales'] = PerSales"
   ]
  },
  {
   "cell_type": "code",
   "execution_count": 28,
   "metadata": {},
   "outputs": [],
   "source": [
    "# Segment == LostCheapSpenders (141, 131)\n",
    "\n",
    "CustomerCount = rfm_segment[rfm_segment.RFMScore.isin(['141', '131'])]['CustomerID'].count()\n",
    "RecencyMean = round(rfm_segment[rfm_segment.RFMScore.isin(['141', '131'])]['Recency'].mean(), 2)\n",
    "FrequencyMean = round(rfm_segment[rfm_segment.RFMScore.isin(['141', '131'])]['Frequency'].mean(), 2)\n",
    "MonetaryMean = round(rfm_segment[rfm_segment.RFMScore.isin(['141', '131'])]['Monetary'].mean(), 2)\n",
    "PerCustomer = round((rfm_segment[rfm_segment.RFMScore.isin(['141', '131'])]['CustomerID'].count() /\\\n",
    "                     rfm_segment['CustomerID'].count())*100, 2)\n",
    "PerSales = round((rfm_segment[rfm_segment.RFMScore.isin(['141', '131'])]['Monetary'].sum() /\\\n",
    "                     rfm_segment['Monetary'].sum())*100, 2)\n",
    "\n",
    "\n",
    "KPI.loc[6].CustomerCount = CustomerCount\n",
    "KPI.loc[6].RecencyMean = RecencyMean\n",
    "KPI.loc[6].FrequencyMean = FrequencyMean\n",
    "KPI.loc[6].MonetaryMean = MonetaryMean\n",
    "KPI.loc[6]['%Customer'] = PerCustomer\n",
    "KPI.loc[6]['%Sales'] = PerSales"
   ]
  },
  {
   "cell_type": "code",
   "execution_count": 29,
   "metadata": {},
   "outputs": [
    {
     "data": {
      "text/html": [
       "<div>\n",
       "<style scoped>\n",
       "    .dataframe tbody tr th:only-of-type {\n",
       "        vertical-align: middle;\n",
       "    }\n",
       "\n",
       "    .dataframe tbody tr th {\n",
       "        vertical-align: top;\n",
       "    }\n",
       "\n",
       "    .dataframe thead th {\n",
       "        text-align: right;\n",
       "    }\n",
       "</style>\n",
       "<table border=\"1\" class=\"dataframe\">\n",
       "  <thead>\n",
       "    <tr style=\"text-align: right;\">\n",
       "      <th></th>\n",
       "      <th>Segment</th>\n",
       "      <th>CustomerCount</th>\n",
       "      <th>RecencyMean</th>\n",
       "      <th>FrequencyMean</th>\n",
       "      <th>MonetaryMean</th>\n",
       "      <th>%Customer</th>\n",
       "      <th>%Sales</th>\n",
       "    </tr>\n",
       "  </thead>\n",
       "  <tbody>\n",
       "    <tr>\n",
       "      <th>0</th>\n",
       "      <td>Core</td>\n",
       "      <td>218</td>\n",
       "      <td>6.16</td>\n",
       "      <td>11.85</td>\n",
       "      <td>967.86</td>\n",
       "      <td>7.61</td>\n",
       "      <td>42.38</td>\n",
       "    </tr>\n",
       "    <tr>\n",
       "      <th>1</th>\n",
       "      <td>Loyal</td>\n",
       "      <td>687</td>\n",
       "      <td>25.87</td>\n",
       "      <td>7.77</td>\n",
       "      <td>483.8</td>\n",
       "      <td>23.99</td>\n",
       "      <td>66.76</td>\n",
       "    </tr>\n",
       "    <tr>\n",
       "      <th>2</th>\n",
       "      <td>BigSpenders</td>\n",
       "      <td>716</td>\n",
       "      <td>38.92</td>\n",
       "      <td>6.59</td>\n",
       "      <td>604.12</td>\n",
       "      <td>25</td>\n",
       "      <td>86.89</td>\n",
       "    </tr>\n",
       "    <tr>\n",
       "      <th>3</th>\n",
       "      <td>Rookies</td>\n",
       "      <td>201</td>\n",
       "      <td>6.86</td>\n",
       "      <td>1</td>\n",
       "      <td>38.36</td>\n",
       "      <td>7.02</td>\n",
       "      <td>1.55</td>\n",
       "    </tr>\n",
       "    <tr>\n",
       "      <th>4</th>\n",
       "      <td>LoosingBigSpenders</td>\n",
       "      <td>76</td>\n",
       "      <td>72.21</td>\n",
       "      <td>4.75</td>\n",
       "      <td>917.97</td>\n",
       "      <td>2.65</td>\n",
       "      <td>14.01</td>\n",
       "    </tr>\n",
       "    <tr>\n",
       "      <th>5</th>\n",
       "      <td>LostBigSpenders</td>\n",
       "      <td>12</td>\n",
       "      <td>136.33</td>\n",
       "      <td>3.92</td>\n",
       "      <td>190.88</td>\n",
       "      <td>0.42</td>\n",
       "      <td>0.46</td>\n",
       "    </tr>\n",
       "    <tr>\n",
       "      <th>6</th>\n",
       "      <td>LostCheapSpenders</td>\n",
       "      <td>2</td>\n",
       "      <td>122</td>\n",
       "      <td>3</td>\n",
       "      <td>10.8</td>\n",
       "      <td>0.07</td>\n",
       "      <td>0</td>\n",
       "    </tr>\n",
       "  </tbody>\n",
       "</table>\n",
       "</div>"
      ],
      "text/plain": [
       "              Segment CustomerCount RecencyMean FrequencyMean MonetaryMean  \\\n",
       "0                Core           218        6.16         11.85       967.86   \n",
       "1               Loyal           687       25.87          7.77        483.8   \n",
       "2         BigSpenders           716       38.92          6.59       604.12   \n",
       "3             Rookies           201        6.86             1        38.36   \n",
       "4  LoosingBigSpenders            76       72.21          4.75       917.97   \n",
       "5     LostBigSpenders            12      136.33          3.92       190.88   \n",
       "6   LostCheapSpenders             2         122             3         10.8   \n",
       "\n",
       "  %Customer %Sales  \n",
       "0      7.61  42.38  \n",
       "1     23.99  66.76  \n",
       "2        25  86.89  \n",
       "3      7.02   1.55  \n",
       "4      2.65  14.01  \n",
       "5      0.42   0.46  \n",
       "6      0.07      0  "
      ]
     },
     "execution_count": 29,
     "metadata": {},
     "output_type": "execute_result"
    }
   ],
   "source": [
    "KPI"
   ]
  },
  {
   "cell_type": "code",
   "execution_count": null,
   "metadata": {},
   "outputs": [],
   "source": []
  },
  {
   "cell_type": "code",
   "execution_count": 30,
   "metadata": {},
   "outputs": [
    {
     "data": {
      "image/png": "[encoded data removed]",
      "text/plain": [
       "<Figure size 1080x576 with 1 Axes>"
      ]
     },
     "metadata": {
      "needs_background": "light"
     },
     "output_type": "display_data"
    }
   ],
   "source": [
    "#Visualizing the RFM segments\n",
    "\n",
    "fig = plt.gcf()\n",
    "ax = fig.add_subplot()\n",
    "fig.set_size_inches(15, 8)\n",
    "squarify.plot(sizes=KPI['CustomerCount'], \n",
    "              label=['Core',\n",
    "                     'Loyal',\n",
    "                     'BigSpenders',\n",
    "                     'Rookies',\n",
    "                     'LoosingBigSpenders', \n",
    "                     'LostBigSpenders',\n",
    "                     'LostCheapSpenders'], alpha=0.8, )\n",
    "plt.title(\"RFM Segments\",fontsize=15,fontweight=\"bold\")\n",
    "plt.axis('off')\n",
    "plt.show()"
   ]
  },
  {
   "cell_type": "code",
   "execution_count": null,
   "metadata": {},
   "outputs": [],
   "source": []
  },
  {
   "cell_type": "markdown",
   "metadata": {},
   "source": [
    "# Customer Segmentaton using K-Means"
   ]
  },
  {
   "cell_type": "markdown",
   "metadata": {},
   "source": [
    "We will create customer segment using K-Means algorithm on the R, F, M dataset (data_rfm) created above. "
   ]
  },
  {
   "cell_type": "code",
   "execution_count": 43,
   "metadata": {},
   "outputs": [],
   "source": [
    "data_kmeans = data_rfm[['CustomerID', 'Recency', 'Frequency', 'Monetary']]"
   ]
  },
  {
   "cell_type": "code",
   "execution_count": 44,
   "metadata": {},
   "outputs": [
    {
     "data": {
      "image/png": "[encoded data removed]",
      "text/plain": [
       "<Figure size 1080x360 with 3 Axes>"
      ]
     },
     "metadata": {
      "needs_background": "light"
     },
     "output_type": "display_data"
    }
   ],
   "source": [
    "#As K-Means algorithm is sensitive to outliers, we will first check for any outliers in R, F, M using boxplot\n",
    "\n",
    "\n",
    "fig, (ax1, ax2, ax3) = plt.subplots(1,3,figsize=(15, 5))\n",
    "\n",
    "ax=sns.boxplot(x=data_kmeans['Recency'], ax=ax1)\n",
    "ax.set_title(\"Recency\")\n",
    "\n",
    "\n",
    "ax=sns.boxplot(x=data_kmeans['Frequency'], ax=ax2)\n",
    "ax.set_title(\"Frequency\")\n",
    "\n",
    "ax=sns.boxplot(x=data_kmeans['Monetary'], ax=ax3)\n",
    "ax.set_title(\"Monetary\")\n",
    "\n",
    "plt.show()"
   ]
  },
  {
   "cell_type": "code",
   "execution_count": 46,
   "metadata": {},
   "outputs": [
    {
     "data": {
      "text/plain": [
       "(2864, 4)"
      ]
     },
     "execution_count": 46,
     "metadata": {},
     "output_type": "execute_result"
    }
   ],
   "source": [
    "data_kmeans.shape"
   ]
  },
  {
   "cell_type": "code",
   "execution_count": null,
   "metadata": {},
   "outputs": [],
   "source": []
  },
  {
   "cell_type": "code",
   "execution_count": 49,
   "metadata": {},
   "outputs": [],
   "source": [
    "#Removing outliers using quantiles, i.e. datapoints residing outside 99 percentile within R, F and M\n",
    "\n",
    "\n",
    "#Creating Individual tables after removing top 1% of outliers\n",
    "\n",
    "recency_cleaned = data_kmeans[data_kmeans['Recency']<data_kmeans['Recency'].quantile(0.99)][['CustomerID', 'Recency']]\n",
    "frequency_cleaned = data_kmeans[data_kmeans['Frequency']<data_kmeans['Recency'].quantile(0.99)][['CustomerID', 'Frequency']]\n",
    "monetary_cleaned = data_kmeans[data_kmeans['Monetary']<data_kmeans['Recency'].quantile(0.99)][['CustomerID', 'Monetary']]\n",
    "\n",
    "\n",
    "#Combining cleaned dataframe into one\n",
    "\n",
    "data_kmeans = recency_cleaned.merge(frequency_cleaned, how='inner', on='CustomerID').merge(monetary_cleaned, \n",
    "                                                                                         how='inner', on='CustomerID')\n"
   ]
  },
  {
   "cell_type": "code",
   "execution_count": 54,
   "metadata": {},
   "outputs": [
    {
     "data": {
      "image/png": "[encoded data removed]",
      "text/plain": [
       "<Figure size 432x288 with 1 Axes>"
      ]
     },
     "metadata": {
      "needs_background": "light"
     },
     "output_type": "display_data"
    }
   ],
   "source": [
    "#Finding Optimum Clusters using Elbow curve usnig K-Means\n",
    "\n",
    "sse={}\n",
    "for k in range(1, 10):\n",
    "    kmeans = KMeans(n_clusters=k, max_iter=1000).fit(data_kmeans)\n",
    "    tx_recency[\"clusters\"] = kmeans.labels_\n",
    "    sse[k] = kmeans.inertia_ \n",
    "plt.figure()\n",
    "plt.plot(list(sse.keys()), list(sse.values()))\n",
    "plt.xlabel(\"Number of cluster\")\n",
    "plt.show()"
   ]
  },
  {
   "cell_type": "markdown",
   "metadata": {},
   "source": [
    "we can see using above elbow curve, 3 as optimum no of clusters which means there will be three segments for recency, \n",
    "frequency, and monetary"
   ]
  },
  {
   "cell_type": "code",
   "execution_count": null,
   "metadata": {},
   "outputs": [],
   "source": []
  },
  {
   "cell_type": "code",
   "execution_count": 65,
   "metadata": {},
   "outputs": [],
   "source": [
    "#Applying K-Means with K==3\n",
    "\n",
    "#Recency Clusters\n",
    "kmeans = KMeans(n_clusters=3)\n",
    "kmeans.fit(data_kmeans[['Recency']])\n",
    "data_kmeans['RecencyCluster']=kmeans.predict(data_kmeans[['Recency']])\n",
    "\n",
    "#Frequency Clusters\n",
    "kmeans = KMeans(n_clusters=3)\n",
    "kmeans.fit(data_kmeans[['Frequency']])\n",
    "data_kmeans['FrequencyCluster']=kmeans.predict(data_kmeans[['Frequency']])\n",
    "\n",
    "\n",
    "#Monetary Clusters\n",
    "kmeans = KMeans(n_clusters=3)\n",
    "kmeans.fit(data_kmeans[['Monetary']])\n",
    "data_kmeans['MonetaryCluster']=kmeans.predict(data_kmeans[['Monetary']])"
   ]
  },
  {
   "cell_type": "code",
   "execution_count": 66,
   "metadata": {},
   "outputs": [],
   "source": [
    "#Since clusters formed are not ordered clusters i.e. mean of cluster 1 > mean of cluster 2 as K-Means randomly assign\n",
    "#clusters. Reordering the clusters.\n",
    "\n",
    "def order_cluster(cluster_field_name, target_field_name, df, ascending):\n",
    "    new_cluster_field_name = 'new_'+cluster_field_name\n",
    "    df_new = df.groupby(cluster_field_name)[target_field_name].mean().reset_index()\n",
    "    df_new = df_new.sort_values(by=target_field_name, ascending = ascending).reset_index(drop=True)\n",
    "    df_new['index']=df_new.index\n",
    "    df_final = pd.merge(df, df_new[[cluster_field_name, 'index']], on=cluster_field_name)\n",
    "    df_final = df_final.drop([cluster_field_name], axis=1)\n",
    "    df_final = df_final.rename(columns={\"index\":cluster_field_name})\n",
    "    return df_final\n",
    "\n",
    "\n",
    "data_kmeans = order_cluster('RecencyCluster','Recency', data_kmeans, False)\n",
    "data_kmeans = order_cluster('FrequencyCluster','Frequency', data_kmeans, True)\n",
    "data_kmeans = order_cluster('MonetaryCluster','Monetary', data_kmeans, True)"
   ]
  },
  {
   "cell_type": "code",
   "execution_count": 68,
   "metadata": {},
   "outputs": [],
   "source": [
    "#Creating individual cluster tags for each of the R, F and M\n",
    "\n",
    "# Define a function to map the values \n",
    "def set_value(row_number, assigned_value): \n",
    "    return assigned_value[row_number] \n",
    "\n",
    "\n",
    "# Creating Recency Custer Tag Column\n",
    "c=data_kmeans.groupby('RecencyCluster')['Recency'].agg(['min','max','mean']).reset_index()\n",
    "r1='<='+str(c.iloc[2,2]) \n",
    "r2=str(c.iloc[1,1])+' to '+str(c.iloc[1,2]) \n",
    "r3='>='+str(c.iloc[0,1])\n",
    "# Create the dictionary \n",
    "R ={0 : r3, 1 : r2, 2 : r1} \n",
    "data_kmeans['RecencyClusterTag']=data_kmeans['RecencyCluster'].apply(set_value, args =(R, )) \n",
    "\n",
    "# Creating Frequency Custer Tag Column\n",
    "a=data_kmeans.groupby('FrequencyCluster')['Frequency'].agg(['min','max','mean']).reset_index()\n",
    "f1='<='+str(a.iloc[0,2]) \n",
    "f2=str(a.iloc[1,1])+' to '+str(a.iloc[1,2]) \n",
    "f3='>='+str(a.iloc[2,1])\n",
    "# Create the dictionary \n",
    "F ={0 : f1, 1 : f2, 2 :f3} \n",
    "data_kmeans['FrequencyClusterTag']=data_kmeans['FrequencyCluster'].apply(set_value, args =(F, )) \n",
    "\n",
    "# Creating Monetary Custer Tag Column\n",
    "b=data_kmeans.groupby('MonetaryCluster')['Monetary'].agg(['min','max','mean']).reset_index()\n",
    "m1='<='+str(int(round(b.iloc[0,2]))) \n",
    "m2=str(int(round(b.iloc[0,2])+1))+' to '+str(int(round(b.iloc[1,2]))) \n",
    "m3='>='+str(int(round(b.iloc[1,2])+1))\n",
    "# Create the dictionary \n",
    "M ={0 : m1, 1 : m2, 2 :m3} \n",
    "data_kmeans['MonetaryClusterTag']=data_kmeans['MonetaryCluster'].apply(set_value, args =(M, )) \n",
    "\n",
    "data_kmeans[\"FrequencyClusterTag\"] = data_kmeans[\"FrequencyClusterTag\"].astype(pd.api.types.CategoricalDtype(categories=[f1, f2, f3]))\n",
    "data_kmeans[\"MonetaryClusterTag\"] = data_kmeans[\"MonetaryClusterTag\"].astype(pd.api.types.CategoricalDtype(categories=[m1, m2,m3]))\n",
    "data_kmeans[\"RecencyClusterTag\"] = data_kmeans[\"RecencyClusterTag\"].astype(pd.api.types.CategoricalDtype(categories=[r1, r2,r3]))\n"
   ]
  },
  {
   "cell_type": "code",
   "execution_count": 70,
   "metadata": {},
   "outputs": [
    {
     "data": {
      "text/html": [
       "<div>\n",
       "<style scoped>\n",
       "    .dataframe tbody tr th:only-of-type {\n",
       "        vertical-align: middle;\n",
       "    }\n",
       "\n",
       "    .dataframe tbody tr th {\n",
       "        vertical-align: top;\n",
       "    }\n",
       "\n",
       "    .dataframe thead th {\n",
       "        text-align: right;\n",
       "    }\n",
       "</style>\n",
       "<table border=\"1\" class=\"dataframe\">\n",
       "  <thead>\n",
       "    <tr style=\"text-align: right;\">\n",
       "      <th></th>\n",
       "      <th>CustomerID</th>\n",
       "      <th>Recency</th>\n",
       "      <th>Frequency</th>\n",
       "      <th>Monetary</th>\n",
       "      <th>RecencyCluster</th>\n",
       "      <th>FrequencyCluster</th>\n",
       "      <th>MonetaryCluster</th>\n",
       "      <th>RecencyClusterTag</th>\n",
       "      <th>FrequencyClusterTag</th>\n",
       "      <th>MonetaryClusterTag</th>\n",
       "    </tr>\n",
       "  </thead>\n",
       "  <tbody>\n",
       "    <tr>\n",
       "      <th>0</th>\n",
       "      <td>12747.0</td>\n",
       "      <td>39</td>\n",
       "      <td>5</td>\n",
       "      <td>191.85</td>\n",
       "      <td>2</td>\n",
       "      <td>1</td>\n",
       "      <td>2</td>\n",
       "      <td>&lt;=52</td>\n",
       "      <td>3 to 5</td>\n",
       "      <td>&gt;=124</td>\n",
       "    </tr>\n",
       "    <tr>\n",
       "      <th>1</th>\n",
       "      <td>12919.0</td>\n",
       "      <td>46</td>\n",
       "      <td>3</td>\n",
       "      <td>167.80</td>\n",
       "      <td>2</td>\n",
       "      <td>1</td>\n",
       "      <td>2</td>\n",
       "      <td>&lt;=52</td>\n",
       "      <td>3 to 5</td>\n",
       "      <td>&gt;=124</td>\n",
       "    </tr>\n",
       "    <tr>\n",
       "      <th>2</th>\n",
       "      <td>12924.0</td>\n",
       "      <td>18</td>\n",
       "      <td>3</td>\n",
       "      <td>162.67</td>\n",
       "      <td>2</td>\n",
       "      <td>1</td>\n",
       "      <td>2</td>\n",
       "      <td>&lt;=52</td>\n",
       "      <td>3 to 5</td>\n",
       "      <td>&gt;=124</td>\n",
       "    </tr>\n",
       "    <tr>\n",
       "      <th>3</th>\n",
       "      <td>12948.0</td>\n",
       "      <td>35</td>\n",
       "      <td>4</td>\n",
       "      <td>131.30</td>\n",
       "      <td>2</td>\n",
       "      <td>1</td>\n",
       "      <td>2</td>\n",
       "      <td>&lt;=52</td>\n",
       "      <td>3 to 5</td>\n",
       "      <td>&gt;=124</td>\n",
       "    </tr>\n",
       "    <tr>\n",
       "      <th>4</th>\n",
       "      <td>13026.0</td>\n",
       "      <td>22</td>\n",
       "      <td>3</td>\n",
       "      <td>194.16</td>\n",
       "      <td>2</td>\n",
       "      <td>1</td>\n",
       "      <td>2</td>\n",
       "      <td>&lt;=52</td>\n",
       "      <td>3 to 5</td>\n",
       "      <td>&gt;=124</td>\n",
       "    </tr>\n",
       "  </tbody>\n",
       "</table>\n",
       "</div>"
      ],
      "text/plain": [
       "   CustomerID  Recency  Frequency  Monetary  RecencyCluster  FrequencyCluster  \\\n",
       "0     12747.0       39          5    191.85               2                 1   \n",
       "1     12919.0       46          3    167.80               2                 1   \n",
       "2     12924.0       18          3    162.67               2                 1   \n",
       "3     12948.0       35          4    131.30               2                 1   \n",
       "4     13026.0       22          3    194.16               2                 1   \n",
       "\n",
       "   MonetaryCluster RecencyClusterTag FrequencyClusterTag MonetaryClusterTag  \n",
       "0                2              <=52              3 to 5              >=124  \n",
       "1                2              <=52              3 to 5              >=124  \n",
       "2                2              <=52              3 to 5              >=124  \n",
       "3                2              <=52              3 to 5              >=124  \n",
       "4                2              <=52              3 to 5              >=124  "
      ]
     },
     "execution_count": 70,
     "metadata": {},
     "output_type": "execute_result"
    }
   ],
   "source": [
    "data_kmeans.head()"
   ]
  },
  {
   "cell_type": "code",
   "execution_count": null,
   "metadata": {},
   "outputs": [],
   "source": []
  },
  {
   "cell_type": "code",
   "execution_count": 76,
   "metadata": {},
   "outputs": [
    {
     "data": {
      "image/png": "[encoded data removed]",
      "text/plain": [
       "<Figure size 1080x360 with 3 Axes>"
      ]
     },
     "metadata": {
      "needs_background": "light"
     },
     "output_type": "display_data"
    }
   ],
   "source": [
    "#Visualizing the clusters\n",
    "#Customer distribution in each clusters\n",
    "\n",
    "temp1 = data_kmeans.groupby('RecencyClusterTag').agg({'CustomerID':'count'}).reset_index()\n",
    "temp2= data_kmeans.groupby('FrequencyClusterTag').agg({'CustomerID':'count'}).reset_index()\n",
    "temp3 = data_kmeans.groupby('MonetaryClusterTag').agg({'CustomerID':'count'}).reset_index()\n",
    "\n",
    "fig, (ax1, ax2, ax3) = plt.subplots(1,3,figsize=(15, 5))\n",
    "\n",
    "ax=sns.barplot(x='RecencyClusterTag', y='CustomerID', data=temp1 , ax=ax1)\n",
    "ax.set(xlabel=\"Recency Clusters\", ylabel = \"# of Customers\")\n",
    "ax.set_title(\"Recency\")\n",
    "\n",
    "\n",
    "ax=sns.barplot(x='FrequencyClusterTag', y='CustomerID', data=temp2 , ax=ax2)\n",
    "ax.set(xlabel=\"Frequency Clusters\", ylabel = \"\")\n",
    "ax.set_title(\"Frequency\")\n",
    "\n",
    "\n",
    "ax=sns.barplot(x='MonetaryClusterTag', y='CustomerID', data=temp3 , ax=ax3)\n",
    "ax.set(xlabel=\"Monetary Clusters\", ylabel = \"\")\n",
    "ax.set_title(\"Monetary\")\n",
    "\n",
    "plt.show()"
   ]
  },
  {
   "cell_type": "markdown",
   "metadata": {},
   "source": [
    "We can define various customer segments as we did before based on the clusters:\n",
    "\n",
    "1.Core - Best Customers\n",
    "\n",
    "RFM clusters: >=126, >=6, >=124\n",
    "\n",
    "Who They Are: Highly engaged customers who visited recently, the most often visited and generates the most revenue.\n",
    "\n",
    "2.Loyal - Most Loyal Customers\n",
    "\n",
    "Frequency cluster: >=6\n",
    "\n",
    "Who They Are: Customers who are most frequent\n",
    "\n",
    "3.BigSpenders - Highest Paying Customers\n",
    "\n",
    "Monetary clusters: >=124\n",
    "\n",
    "Who They Are: Customers who have generated the most revenue"
   ]
  },
  {
   "cell_type": "code",
   "execution_count": null,
   "metadata": {},
   "outputs": [],
   "source": []
  }
 ],
 "metadata": {
  "kernelspec": {
   "display_name": "Python 3",
   "language": "python",
   "name": "python3"
  },
  "language_info": {
   "codemirror_mode": {
    "name": "ipython",
    "version": 3
   },
   "file_extension": ".py",
   "mimetype": "text/x-python",
   "name": "python",
   "nbconvert_exporter": "python",
   "pygments_lexer": "ipython3",
   "version": "3.6.5"
  }
 },
 "nbformat": 4,
 "nbformat_minor": 2
}
