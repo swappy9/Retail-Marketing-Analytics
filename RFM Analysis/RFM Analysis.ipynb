{
 "cells": [
  {
   "cell_type": "code",
   "execution_count": null,
   "metadata": {},
   "outputs": [],
   "source": [
    "#Importing necessary libraries\n",
    "\n",
    "import numpy as np\n",
    "import pandas as pd\n",
    "\n",
    "import time, warnings\n",
    "import datetime as dt\n",
    "\n",
    "#visualizations\n",
    "import matplotlib.pyplot as plt\n",
    "from pandas.plotting import scatter_matrix\n",
    "%matplotlib inline\n",
    "import seaborn as sns\n",
    "import squarify\n",
    "\n",
    "warnings.filterwarnings(\"ignore\")"
   ]
  },
  {
   "cell_type": "code",
   "execution_count": null,
   "metadata": {},
   "outputs": [],
   "source": [
    "#Reading data from CSV in ISO format\n",
    "\n",
    "data = pd.read_csv(\"data.csv\", encoding=\"ISO-8859-1\")"
   ]
  },
  {
   "cell_type": "code",
   "execution_count": null,
   "metadata": {},
   "outputs": [],
   "source": [
    "#Checking the head of dataframe to see the headers and data \n",
    "\n",
    "data.head()"
   ]
  },
  {
   "cell_type": "markdown",
   "metadata": {},
   "source": [
    "# Let's do some EDA.."
   ]
  },
  {
   "cell_type": "code",
   "execution_count": null,
   "metadata": {},
   "outputs": [],
   "source": []
  },
  {
   "cell_type": "code",
   "execution_count": null,
   "metadata": {},
   "outputs": [],
   "source": [
    "#Summary of data/overall numbers\n",
    "\n",
    "print(\"Shape of the dataset: \", data.shape)\n",
    "print(\"\\nColumns present: \", list(data.columns))\n",
    "print(\"\\nNo. of invoices: \", data['InvoiceNo'].nunique())\n",
    "print(\"\\nNo. of Products: \", data['Description'].nunique())\n",
    "print(\"\\nMin. & Max. Invoice date: \", min(data['InvoiceDate']), ' & ', max(data['InvoiceDate']))\n",
    "print(\"\\nMin. & Max. Qty: \", min(data['Quantity']), ' & ', max(data['Quantity']))\n",
    "print(\"\\nMin. & Max. Unit Price: \", min(data['UnitPrice']), ' & ', max(data['UnitPrice']))\n",
    "print(\"\\nNo. of Customers: \", data['CustomerID'].nunique())\n",
    "print(\"\\nNo. of Countries: \", data['Country'].nunique())"
   ]
  },
  {
   "cell_type": "markdown",
   "metadata": {},
   "source": [
    "Findings...\n",
    "A Total of 25900 invoices/unique transcations available\n",
    "Transactions are dated till Nov 2011\n",
    "Negative qty and price indicates there are some \"return\" transactions in the dataset\n",
    "There are 4K cutsomers spanning 38 countries."
   ]
  },
  {
   "cell_type": "code",
   "execution_count": null,
   "metadata": {},
   "outputs": [],
   "source": []
  },
  {
   "cell_type": "code",
   "execution_count": null,
   "metadata": {},
   "outputs": [],
   "source": [
    "#Cehcking for any NULL values:\n",
    "\n",
    "col = ['InvoiceNo', 'Description', 'Quantity', 'InvoiceDate', 'UnitPrice', 'CustomerID', 'Country']\n",
    "\n",
    "for i in col:\n",
    "    val = data[i].isnull().values.any()\n",
    "    if val == True:\n",
    "        #print(i, ' has null values: ', val)\n",
    "        print('# of transactions with NULL', i, ':', data[data[i].isnull() == True].shape[0])"
   ]
  },
  {
   "cell_type": "code",
   "execution_count": null,
   "metadata": {},
   "outputs": [],
   "source": [
    "#Since customer behave differently in different geogrophical regions, let's look at the customer distribution\n",
    "# or invoice distribution by country for top10 countries.\n",
    "\n",
    "temp = data[['Country', 'CustomerID', 'InvoiceNo']].groupby(['Country']).agg({\"CustomerID\": \"nunique\", \n",
    "                                                                             \"InvoiceNo\": \"nunique\"}).reset_index().sort_values(by='CustomerID', ascending=False).head(10)\n",
    "ax = plt.figure(figsize=(15, 5)).subplots(1,2)\n",
    "ax=sns.barplot(x=\"Country\", y=\"CustomerID\", data=temp, ax=ax[0])\n",
    "ax.set_xticklabels(ax.get_xticklabels(),rotation=45)\n",
    "ax.set_title(\"Country wise customer count\")\n",
    "\n",
    "\n",
    "ax=sns.barplot(x=\"Country\", y=\"InvoiceNo\", data=temp)\n",
    "ax.set_xticklabels(ax.get_xticklabels(),rotation=45)\n",
    "ax.set_title(\"Country wise invoice count\")"
   ]
  },
  {
   "cell_type": "markdown",
   "metadata": {},
   "source": [
    "Most of the data is coming from \"United Kingdom\", therefore we'll be restricting our analysis to only this country"
   ]
  },
  {
   "cell_type": "code",
   "execution_count": null,
   "metadata": {},
   "outputs": [],
   "source": []
  },
  {
   "cell_type": "code",
   "execution_count": null,
   "metadata": {},
   "outputs": [],
   "source": [
    "#Top Customers based on # of Invoices and Total $ spent\n",
    "\n",
    "data['AmountSpent'] = data['Quantity'] * data['UnitPrice']\n",
    "temp1 = data[['CustomerID', 'InvoiceNo', 'AmountSpent']].groupby(['CustomerID']).agg({\"InvoiceNo\": \"nunique\", \n",
    "                                                                             \"AmountSpent\": \"sum\"}).reset_index().sort_values(by=['InvoiceNo'], ascending=False).head(10)\n",
    "temp2 = data[['CustomerID', 'InvoiceNo', 'AmountSpent']].groupby(['CustomerID']).agg({\"InvoiceNo\": \"nunique\", \n",
    "                                                                             \"AmountSpent\": \"sum\"}).reset_index().sort_values(by=['AmountSpent'], ascending=False).head(10)\n",
    "\n",
    "ax = plt.figure(figsize=(15, 5)).subplots(1,2)\n",
    "ax=sns.barplot(x=\"CustomerID\", y=\"InvoiceNo\", data=temp1, ax=ax[0])\n",
    "ax.set_xticklabels(ax.get_xticklabels(),rotation=45)\n",
    "ax.set_title(\"Top Customer via frequency\")\n",
    "\n",
    "\n",
    "ax=sns.barplot(x=\"CustomerID\", y=\"AmountSpent\", data=temp2)\n",
    "ax.set_xticklabels(ax.get_xticklabels(),rotation=45)\n",
    "ax.set_title(\"Top Customer via amount spent\")"
   ]
  },
  {
   "cell_type": "markdown",
   "metadata": {},
   "source": [
    "Top customer based on frequency of visits is ID = 14911\n",
    "\n",
    "Top customer based on $ amount spent is ID = 14646\n",
    "\n",
    "Top customer based on dollar amount has less than half foorprint compared to the most frequent customer"
   ]
  },
  {
   "cell_type": "code",
   "execution_count": null,
   "metadata": {},
   "outputs": [],
   "source": []
  },
  {
   "cell_type": "code",
   "execution_count": null,
   "metadata": {},
   "outputs": [],
   "source": [
    "#Top 10 product sold\n",
    "\n",
    "temp1 = data[['Description', 'Quantity']].groupby(['Description']).agg({\"Quantity\": \"sum\"}).reset_index().sort_values(by=['Quantity'], ascending=False).head(10)\n",
    "\n",
    "ax = plt.figure(figsize=(15, 5))\n",
    "ax=sns.barplot(x=\"Description\", y=\"Quantity\", data=temp1)\n",
    "ax.set_xticklabels(ax.get_xticklabels(),rotation=45)\n",
    "ax.set_title(\"Top selling products\")"
   ]
  },
  {
   "cell_type": "markdown",
   "metadata": {},
   "source": [
    "Top product is \"World War 2 Gliders Asstd Designs\" with over 50K units sold"
   ]
  },
  {
   "cell_type": "code",
   "execution_count": null,
   "metadata": {},
   "outputs": [],
   "source": []
  },
  {
   "cell_type": "code",
   "execution_count": null,
   "metadata": {},
   "outputs": [],
   "source": []
  },
  {
   "cell_type": "markdown",
   "metadata": {},
   "source": [
    "# Data Cleaning..."
   ]
  },
  {
   "cell_type": "markdown",
   "metadata": {},
   "source": [
    "To clean the dataset, we will follow some basic business logics:\n",
    "\n",
    "1. Restrict the dataset to \"UnitedKingdom\"\n",
    "2. Remove return orders\n",
    "3. Remove rows where customerID are NA\n",
    "4. Restrict the data to one year to better understand RFM"
   ]
  },
  {
   "cell_type": "code",
   "execution_count": null,
   "metadata": {},
   "outputs": [],
   "source": [
    "data_uk = data[data['Country'] == 'United Kingdom']\n",
    "print('Shape of dataset after selecting country = United Kingdom ', data_uk.shape)\n",
    "\n",
    "data_uk = data_uk[data_uk['Quantity'] > 0]\n",
    "print('Shape of dataset after removing return orders ', data_uk.shape)\n",
    "\n",
    "data_uk.dropna(subset=['CustomerID'],how='all',inplace=True, )\n",
    "print('Shape of dataset after removing Null CustomerID ', data_uk.shape)\n",
    "\n",
    "\n",
    "data_uk = data_uk[data_uk['InvoiceDate']>= \"2010-12-09\"]\n",
    "print('Shape of dataset after removing more than 1 year worth of data ', data_uk.shape)"
   ]
  },
  {
   "cell_type": "code",
   "execution_count": null,
   "metadata": {},
   "outputs": [],
   "source": [
    "#Summary of cleaned dataset\n",
    "\n",
    "print(\"Shape of the dataset: \", data_uk.shape)\n",
    "print(\"No. of invoices: \", data_uk['InvoiceNo'].nunique())\n",
    "print(\"No. of Products: \", data_uk['Description'].nunique())\n",
    "print(\"Min. & Max. Invoice date: \", min(data_uk['InvoiceDate']), ' & ', max(data_uk['InvoiceDate']))\n",
    "print(\"Min. & Max. Qty: \", min(data_uk['Quantity']), ' & ', max(data_uk['Quantity']))\n",
    "print(\"Min. & Max. Unit Price: \", min(data_uk['UnitPrice']), ' & ', max(data_uk['UnitPrice']))\n",
    "print(\"No. of Customers: \", data_uk['CustomerID'].nunique())"
   ]
  },
  {
   "cell_type": "code",
   "execution_count": null,
   "metadata": {},
   "outputs": [],
   "source": []
  },
  {
   "cell_type": "markdown",
   "metadata": {},
   "source": [
    "# Making RFM dataframe"
   ]
  },
  {
   "cell_type": "code",
   "execution_count": null,
   "metadata": {},
   "outputs": [],
   "source": []
  },
  {
   "cell_type": "code",
   "execution_count": null,
   "metadata": {},
   "outputs": [],
   "source": [
    "#To start with the RFM, we need to create, R(Recency) and F(Frequency) and M(Monetary) columns"
   ]
  },
  {
   "cell_type": "code",
   "execution_count": null,
   "metadata": {},
   "outputs": [],
   "source": [
    "#Recency Column\n",
    "\n",
    "data_uk['Date'] = pd.DatetimeIndex(data_uk['InvoiceDate']).date\n",
    "\n",
    "\n",
    "#We will make the last date as a reference\n",
    "now = dt.date(2011,9,30)\n",
    "print('Base or reference date: ', now)\n",
    "\n",
    "\n",
    "#Calculate the last visit date\n",
    "data_recency = data_uk.groupby(by='CustomerID', as_index=False)['Date'].max()\n",
    "data_recency = data_recency.rename(columns={'CustomerID': 'CustomerID', 'Date': 'LastPurshaceDate'})\n",
    "data_recency['Recency'] = data_recency['LastPurshaceDate'].apply(lambda x: (now - x).days)\n",
    "\n",
    "#Drop LastPurchaseDate\n",
    "data_recency.drop('LastPurshaceDate',axis=1,inplace=True)\n",
    "\n",
    "\n",
    "data_recency.head()"
   ]
  },
  {
   "cell_type": "code",
   "execution_count": null,
   "metadata": {},
   "outputs": [],
   "source": []
  },
  {
   "cell_type": "code",
   "execution_count": null,
   "metadata": {},
   "outputs": [],
   "source": [
    "#Frequency Column\n",
    "\n",
    "temp = data_uk\n",
    "temp.drop_duplicates(subset=['InvoiceNo', 'CustomerID'], keep=\"first\", inplace=True)\n",
    "\n",
    "#calculate frequency of purchases\n",
    "data_freq = temp.groupby(by=['CustomerID'], as_index=False)['InvoiceNo'].count()\n",
    "data_freq = data_freq.rename(columns={'CustomerID': 'CustomerID', 'InvoiceNo': 'Frequency'})\n",
    "\n",
    "\n",
    "data_freq.head()"
   ]
  },
  {
   "cell_type": "code",
   "execution_count": null,
   "metadata": {},
   "outputs": [],
   "source": []
  },
  {
   "cell_type": "code",
   "execution_count": null,
   "metadata": {},
   "outputs": [],
   "source": [
    "#Monetary Column\n",
    "\n",
    "data_monetary = data_uk.groupby(by=['CustomerID'], as_index=False)['AmountSpent'].sum()\n",
    "data_monetary = data_monetary.rename(columns={'CustomerID': 'CustomerID', 'AmountSpent': 'Monetary'})\n",
    "\n",
    "\n",
    "data_monetary.head()"
   ]
  },
  {
   "cell_type": "code",
   "execution_count": null,
   "metadata": {},
   "outputs": [],
   "source": []
  },
  {
   "cell_type": "code",
   "execution_count": null,
   "metadata": {},
   "outputs": [],
   "source": [
    "#Combining Recency, Frequency and Monetary dataframe\n",
    "\n",
    "\n",
    "data_rfm = data_recency.merge(data_freq, how='left', on='CustomerID').merge(data_monetary, how='left', on='CustomerID')"
   ]
  },
  {
   "cell_type": "code",
   "execution_count": null,
   "metadata": {},
   "outputs": [],
   "source": [
    "data_rfm.head()"
   ]
  },
  {
   "cell_type": "code",
   "execution_count": null,
   "metadata": {},
   "outputs": [],
   "source": []
  },
  {
   "cell_type": "markdown",
   "metadata": {},
   "source": [
    "# RFM analysis using Quantiles"
   ]
  },
  {
   "cell_type": "markdown",
   "metadata": {},
   "source": [
    "Here we will create customers segments from RFM Model using Quartiles. We assign a score from 1 to 4 to Recency, Frequency and Monetary. Four is the best/highest value, and one is the lowest/worst value. A final RFM score is calculated simply by combining individual RFM score numbers."
   ]
  },
  {
   "cell_type": "code",
   "execution_count": null,
   "metadata": {},
   "outputs": [],
   "source": []
  },
  {
   "cell_type": "code",
   "execution_count": null,
   "metadata": {},
   "outputs": [],
   "source": [
    "#Creating Quantiles dataframe for 25%, 50%, 75% to create 4 buckets\n",
    "\n",
    "quantiles = data_rfm.drop('CustomerID', axis=1).quantile(q=[0.25,0.5,0.75])\n",
    "quantiles"
   ]
  },
  {
   "cell_type": "code",
   "execution_count": null,
   "metadata": {},
   "outputs": [],
   "source": [
    "#Function to create segments of Recency\n",
    "\n",
    "def RScore(x, p, quantiles):\n",
    "    #return quantiles[quantiles.index == 0.25][p]\n",
    "    if x <= int(quantiles[quantiles.index == 0.25][p]):\n",
    "        return 4\n",
    "    elif x <= int(quantiles[quantiles.index == 0.50][p]):\n",
    "        return 3\n",
    "    elif x <= int(quantiles[quantiles.index == 0.75][p]): \n",
    "        return 2\n",
    "    else:\n",
    "        return 1\n",
    "\n",
    "    \n",
    "#Function to create segments of Frequency and Monetary\n",
    "def FMScore(x, p, quantiles):\n",
    "    if float(x) <= float(quantiles[quantiles.index == 0.25][p]):\n",
    "        return 1\n",
    "    elif float(x) <= float(quantiles[quantiles.index == 0.50][p]):\n",
    "        return 2\n",
    "    elif float(x) <= float(quantiles[quantiles.index == 0.75][p]): \n",
    "        return 3\n",
    "    else:\n",
    "        return 4"
   ]
  },
  {
   "cell_type": "code",
   "execution_count": null,
   "metadata": {},
   "outputs": [],
   "source": [
    "#Calculating each customer's R/F/M quartiles based on quantiles table and functions defined above\n",
    "\n",
    "rfm_segment = data_rfm\n",
    "\n",
    "rfm_segment['R_Quartile'] = rfm_segment['Recency'].apply(RScore, args=('Recency',quantiles,))\n",
    "rfm_segment['F_Quartile'] = rfm_segment['Frequency'].apply(FMScore, args=('Frequency',quantiles,))\n",
    "rfm_segment['M_Quartile'] = rfm_segment['Monetary'].apply(FMScore, args=('Monetary',quantiles,))\n",
    "\n",
    "\n",
    "\n",
    "rfm_segment['RFMScore'] = rfm_segment.R_Quartile.map(str) +rfm_segment.F_Quartile.map(str) +rfm_segment.M_Quartile.map(str)\n",
    "rfm_segment.head()"
   ]
  },
  {
   "cell_type": "code",
   "execution_count": null,
   "metadata": {},
   "outputs": [],
   "source": []
  },
  {
   "cell_type": "markdown",
   "metadata": {},
   "source": [
    "We can define various customer segments based on our RFM segment:\n",
    "\n",
    "1.Core - Best Customers\n",
    " \n",
    " RFM Score: 444\n",
    " \n",
    " Who They Are: Highly engaged customers who visited recently, the most often visited and generates the most revenue.\n",
    "\n",
    "\n",
    "2.Loyal - Most Loyal Customers\n",
    " \n",
    " RFM Score: X4X\n",
    " \n",
    " Who They Are: Customers who are most frequent\n",
    " \n",
    " \n",
    "3.BigSpenders - Highest Paying Customers\n",
    " \n",
    " RFM Score: XX4\n",
    " \n",
    " Who They Are: Customers who have generated the most revenue\n",
    " \n",
    " \n",
    "4.Rookies - Your Newest Customers\n",
    " \n",
    " RFM Score: 41X\n",
    " \n",
    " Who They Are: First time buyers\n",
    "\n",
    "\n",
    "5.LoosingBigSpenders - Focust point!! where good customers are slipping\n",
    "\n",
    "RFM Score: 244 and 234\n",
    "\n",
    "Who They Are: Customers who were frequent and big spenders but have not visited the store in a while\n",
    "\n",
    "\n",
    "6.LostBigSpenders - Good customers who are lost\n",
    "\n",
    "RFM Score: 144 and 134\n",
    "\n",
    "Who They Are: Customers who were frequent and big spenders but have not visited the store from a long time\n",
    "\n",
    "\n",
    "7.LostCheapSpenders - Bad/Cheap customers who are lost\n",
    "\n",
    "RFM Score: 141 and 131\n",
    "\n",
    "Who They Are: Customers who were frequent and big spenders but have not visited the store from a long time\n",
    "\n",
    "\n",
    "8.Regular - The customers having common behaviour across these metrics\n",
    "\n",
    "RFM Score: Remaining Scores\n",
    "\n",
    "Who They Are: Customer who have average metrics across each RFM scores"
   ]
  },
  {
   "cell_type": "code",
   "execution_count": null,
   "metadata": {},
   "outputs": [],
   "source": [
    "#Snapshot of some of the KPI’s against each customer segment\n",
    "\n",
    "KPI = pd.DataFrame(columns=['Segment', 'CustomerCount', 'RecencyMean', 'FrequencyMean', \n",
    "                            'MonetaryMean', '%Customer', '%Sales'])\n",
    "KPI['Segment'] = ['Core', 'Loyal', 'BigSpenders', 'Rookies', 'LoosingBigSpenders', 'LostBigSpenders', 'LostCheapSpenders']\n"
   ]
  },
  {
   "cell_type": "code",
   "execution_count": null,
   "metadata": {},
   "outputs": [],
   "source": [
    "# segment_dict = {'Core':[(4, 4, 4)], \n",
    "#                 'Loyal':[('X', 4, 'X')], \n",
    "#                 'BigSpenders':[('X', 'X', 4)], \n",
    "#                 'Rookies':[(4, 1, 'X')], \n",
    "#                 'LoosingBigSpenders':[(2, 4, 4), (2, 3, 4)], \n",
    "#                 'LostBigSpenders':[(1, 4, 4), (1, 3, 4)], \n",
    "#                 'LostCheapSpenders':[(1,4, 1), (1, 3, 1)]}"
   ]
  },
  {
   "cell_type": "code",
   "execution_count": null,
   "metadata": {},
   "outputs": [],
   "source": [
    "#Segment == Core (444)\n",
    "\n",
    "CustomerCount = rfm_segment[rfm_segment.RFMScore == '444']['CustomerID'].count()\n",
    "RecencyMean = round(rfm_segment[rfm_segment.RFMScore == '444']['Recency'].mean(), 2)\n",
    "FrequencyMean = round(rfm_segment[rfm_segment.RFMScore == '444']['Frequency'].mean(), 2)\n",
    "MonetaryMean = round(rfm_segment[rfm_segment.RFMScore == '444']['Monetary'].mean(), 2)\n",
    "PerCustomer = round((rfm_segment[rfm_segment.RFMScore == '444']['CustomerID'].count() /\\\n",
    "                     rfm_segment['CustomerID'].count())*100, 2)\n",
    "PerSales = round((rfm_segment[rfm_segment.RFMScore == '444']['Monetary'].sum() /\\\n",
    "                     rfm_segment['Monetary'].sum())*100, 2)\n",
    "\n",
    "\n",
    "KPI.loc[0].CustomerCount = CustomerCount\n",
    "KPI.loc[0].RecencyMean = RecencyMean\n",
    "KPI.loc[0].FrequencyMean = FrequencyMean\n",
    "KPI.loc[0].MonetaryMean = MonetaryMean\n",
    "KPI.loc[0]['%Customer'] = PerCustomer\n",
    "KPI.loc[0]['%Sales'] = PerSales"
   ]
  },
  {
   "cell_type": "code",
   "execution_count": null,
   "metadata": {},
   "outputs": [],
   "source": [
    "# Segment == Loyal (X4X)\n",
    "\n",
    "CustomerCount = rfm_segment[rfm_segment.F_Quartile == 4]['CustomerID'].count()\n",
    "RecencyMean = round(rfm_segment[rfm_segment.F_Quartile == 4]['Recency'].mean(), 2)\n",
    "FrequencyMean = round(rfm_segment[rfm_segment.F_Quartile == 4]['Frequency'].mean(), 2)\n",
    "MonetaryMean = round(rfm_segment[rfm_segment.F_Quartile == 4]['Monetary'].mean(), 2)\n",
    "PerCustomer = round((rfm_segment[rfm_segment.F_Quartile == 4]['CustomerID'].count() /\\\n",
    "                     rfm_segment['CustomerID'].count())*100, 2)\n",
    "PerSales = round((rfm_segment[rfm_segment.F_Quartile == 4]['Monetary'].sum() /\\\n",
    "                     rfm_segment['Monetary'].sum())*100, 2)\n",
    "\n",
    "\n",
    "KPI.loc[1].CustomerCount = CustomerCount\n",
    "KPI.loc[1].RecencyMean = RecencyMean\n",
    "KPI.loc[1].FrequencyMean = FrequencyMean\n",
    "KPI.loc[1].MonetaryMean = MonetaryMean\n",
    "KPI.loc[1]['%Customer'] = PerCustomer\n",
    "KPI.loc[1]['%Sales'] = PerSales"
   ]
  },
  {
   "cell_type": "code",
   "execution_count": null,
   "metadata": {},
   "outputs": [],
   "source": [
    "# Segment == BigSpenders (XX4)\n",
    "\n",
    "CustomerCount = rfm_segment[rfm_segment.M_Quartile == 4]['CustomerID'].count()\n",
    "RecencyMean = round(rfm_segment[rfm_segment.M_Quartile == 4]['Recency'].mean(), 2)\n",
    "FrequencyMean = round(rfm_segment[rfm_segment.M_Quartile == 4]['Frequency'].mean(), 2)\n",
    "MonetaryMean = round(rfm_segment[rfm_segment.M_Quartile == 4]['Monetary'].mean(), 2)\n",
    "PerCustomer = round((rfm_segment[rfm_segment.M_Quartile == 4]['CustomerID'].count() /\\\n",
    "                     rfm_segment['CustomerID'].count())*100, 2)\n",
    "PerSales = round((rfm_segment[rfm_segment.M_Quartile == 4]['Monetary'].sum() /\\\n",
    "                     rfm_segment['Monetary'].sum())*100, 2)\n",
    "\n",
    "\n",
    "KPI.loc[2].CustomerCount = CustomerCount\n",
    "KPI.loc[2].RecencyMean = RecencyMean\n",
    "KPI.loc[2].FrequencyMean = FrequencyMean\n",
    "KPI.loc[2].MonetaryMean = MonetaryMean\n",
    "KPI.loc[2]['%Customer'] = PerCustomer\n",
    "KPI.loc[2]['%Sales'] = PerSales"
   ]
  },
  {
   "cell_type": "code",
   "execution_count": null,
   "metadata": {},
   "outputs": [],
   "source": [
    "# Segment == Rookies (41X)\n",
    "\n",
    "CustomerCount = rfm_segment[(rfm_segment.R_Quartile == 4) & (rfm_segment.F_Quartile == 1)]['CustomerID'].count()\n",
    "RecencyMean = round(rfm_segment[(rfm_segment.R_Quartile == 4) & (rfm_segment.F_Quartile == 1)]['Recency'].mean(), 2)\n",
    "FrequencyMean = round(rfm_segment[(rfm_segment.R_Quartile == 4) & (rfm_segment.F_Quartile == 1)]['Frequency'].mean(), 2)\n",
    "MonetaryMean = round(rfm_segment[(rfm_segment.R_Quartile == 4) & (rfm_segment.F_Quartile == 1)]['Monetary'].mean(), 2)\n",
    "PerCustomer = round((rfm_segment[(rfm_segment.R_Quartile == 4) & (rfm_segment.F_Quartile == 1)]['CustomerID'].count() /\\\n",
    "                     rfm_segment['CustomerID'].count())*100, 2)\n",
    "PerSales = round((rfm_segment[(rfm_segment.R_Quartile == 4) & (rfm_segment.F_Quartile == 1)]['Monetary'].sum() /\\\n",
    "                     rfm_segment['Monetary'].sum())*100, 2)\n",
    "\n",
    "\n",
    "KPI.loc[3].CustomerCount = CustomerCount\n",
    "KPI.loc[3].RecencyMean = RecencyMean\n",
    "KPI.loc[3].FrequencyMean = FrequencyMean\n",
    "KPI.loc[3].MonetaryMean = MonetaryMean\n",
    "KPI.loc[3]['%Customer'] = PerCustomer\n",
    "KPI.loc[3]['%Sales'] = PerSales"
   ]
  },
  {
   "cell_type": "code",
   "execution_count": null,
   "metadata": {},
   "outputs": [],
   "source": [
    "# Segment == LoosingBigSpenders (244, 234)\n",
    "\n",
    "CustomerCount = rfm_segment[rfm_segment.RFMScore.isin(['244', '234'])]['CustomerID'].count()\n",
    "RecencyMean = round(rfm_segment[rfm_segment.RFMScore.isin(['244', '234'])]['Recency'].mean(), 2)\n",
    "FrequencyMean = round(rfm_segment[rfm_segment.RFMScore.isin(['244', '234'])]['Frequency'].mean(), 2)\n",
    "MonetaryMean = round(rfm_segment[rfm_segment.RFMScore.isin(['244', '234'])]['Monetary'].mean(), 2)\n",
    "PerCustomer = round((rfm_segment[rfm_segment.RFMScore.isin(['244', '234'])]['CustomerID'].count() /\\\n",
    "                     rfm_segment['CustomerID'].count())*100, 2)\n",
    "PerSales = round((rfm_segment[rfm_segment.RFMScore.isin(['244', '234'])]['Monetary'].sum() /\\\n",
    "                     rfm_segment['Monetary'].sum())*100, 2)\n",
    "\n",
    "\n",
    "KPI.loc[4].CustomerCount = CustomerCount\n",
    "KPI.loc[4].RecencyMean = RecencyMean\n",
    "KPI.loc[4].FrequencyMean = FrequencyMean\n",
    "KPI.loc[4].MonetaryMean = MonetaryMean\n",
    "KPI.loc[4]['%Customer'] = PerCustomer\n",
    "KPI.loc[4]['%Sales'] = PerSales"
   ]
  },
  {
   "cell_type": "code",
   "execution_count": null,
   "metadata": {},
   "outputs": [],
   "source": [
    "# Segment == LostBigSpenders (144, 134)\n",
    "\n",
    "CustomerCount = rfm_segment[rfm_segment.RFMScore.isin(['144', '134'])]['CustomerID'].count()\n",
    "RecencyMean = round(rfm_segment[rfm_segment.RFMScore.isin(['144', '134'])]['Recency'].mean(), 2)\n",
    "FrequencyMean = round(rfm_segment[rfm_segment.RFMScore.isin(['144', '134'])]['Frequency'].mean(), 2)\n",
    "MonetaryMean = round(rfm_segment[rfm_segment.RFMScore.isin(['144', '134'])]['Monetary'].mean(), 2)\n",
    "PerCustomer = round((rfm_segment[rfm_segment.RFMScore.isin(['144', '134'])]['CustomerID'].count() /\\\n",
    "                     rfm_segment['CustomerID'].count())*100, 2)\n",
    "PerSales = round((rfm_segment[rfm_segment.RFMScore.isin(['144', '134'])]['Monetary'].sum() /\\\n",
    "                     rfm_segment['Monetary'].sum())*100, 2)\n",
    "\n",
    "\n",
    "KPI.loc[5].CustomerCount = CustomerCount\n",
    "KPI.loc[5].RecencyMean = RecencyMean\n",
    "KPI.loc[5].FrequencyMean = FrequencyMean\n",
    "KPI.loc[5].MonetaryMean = MonetaryMean\n",
    "KPI.loc[5]['%Customer'] = PerCustomer\n",
    "KPI.loc[5]['%Sales'] = PerSales"
   ]
  },
  {
   "cell_type": "code",
   "execution_count": null,
   "metadata": {},
   "outputs": [],
   "source": [
    "# Segment == LostCheapSpenders (141, 131)\n",
    "\n",
    "CustomerCount = rfm_segment[rfm_segment.RFMScore.isin(['141', '131'])]['CustomerID'].count()\n",
    "RecencyMean = round(rfm_segment[rfm_segment.RFMScore.isin(['141', '131'])]['Recency'].mean(), 2)\n",
    "FrequencyMean = round(rfm_segment[rfm_segment.RFMScore.isin(['141', '131'])]['Frequency'].mean(), 2)\n",
    "MonetaryMean = round(rfm_segment[rfm_segment.RFMScore.isin(['141', '131'])]['Monetary'].mean(), 2)\n",
    "PerCustomer = round((rfm_segment[rfm_segment.RFMScore.isin(['141', '131'])]['CustomerID'].count() /\\\n",
    "                     rfm_segment['CustomerID'].count())*100, 2)\n",
    "PerSales = round((rfm_segment[rfm_segment.RFMScore.isin(['141', '131'])]['Monetary'].sum() /\\\n",
    "                     rfm_segment['Monetary'].sum())*100, 2)\n",
    "\n",
    "\n",
    "KPI.loc[6].CustomerCount = CustomerCount\n",
    "KPI.loc[6].RecencyMean = RecencyMean\n",
    "KPI.loc[6].FrequencyMean = FrequencyMean\n",
    "KPI.loc[6].MonetaryMean = MonetaryMean\n",
    "KPI.loc[6]['%Customer'] = PerCustomer\n",
    "KPI.loc[6]['%Sales'] = PerSales"
   ]
  },
  {
   "cell_type": "code",
   "execution_count": null,
   "metadata": {},
   "outputs": [],
   "source": [
    "KPI"
   ]
  },
  {
   "cell_type": "code",
   "execution_count": null,
   "metadata": {},
   "outputs": [],
   "source": []
  },
  {
   "cell_type": "code",
   "execution_count": null,
   "metadata": {},
   "outputs": [],
   "source": [
    "#Visualizing the RFM segments\n",
    "\n",
    "fig = plt.gcf()\n",
    "ax = fig.add_subplot()\n",
    "fig.set_size_inches(15, 8)\n",
    "squarify.plot(sizes=KPI['CustomerCount'], \n",
    "              label=['Core',\n",
    "                     'Loyal',\n",
    "                     'BigSpenders',\n",
    "                     'Rookies',\n",
    "                     'LoosingBigSpenders', \n",
    "                     'LostBigSpenders',\n",
    "                     'LostCheapSpenders'], alpha=0.8, )\n",
    "plt.title(\"RFM Segments\",fontsize=15,fontweight=\"bold\")\n",
    "plt.axis('off')\n",
    "plt.show()"
   ]
  },
  {
   "cell_type": "code",
   "execution_count": null,
   "metadata": {},
   "outputs": [],
   "source": []
  }
 ],
 "metadata": {
  "kernelspec": {
   "display_name": "Python 3",
   "language": "python",
   "name": "python3"
  },
  "language_info": {
   "codemirror_mode": {
    "name": "ipython",
    "version": 3
   },
   "file_extension": ".py",
   "mimetype": "text/x-python",
   "name": "python",
   "nbconvert_exporter": "python",
   "pygments_lexer": "ipython3",
   "version": "3.6.5"
  }
 },
 "nbformat": 4,
 "nbformat_minor": 2
}
